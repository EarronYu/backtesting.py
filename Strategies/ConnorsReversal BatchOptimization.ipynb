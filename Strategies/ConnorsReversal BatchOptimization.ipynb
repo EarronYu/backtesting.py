{
 "cells": [
  {
   "cell_type": "markdown",
   "metadata": {},
   "source": [
    "# Connors Reversal Strategy Batch Optimization\n",
    "\n",
    "这个notebook用于对多个交易对进行Connors Reversal策略的批量优化。"
   ]
  },
  {
   "cell_type": "code",
   "execution_count": 1,
   "metadata": {},
   "outputs": [],
   "source": [
    "# 导入必要的库\n",
    "import os\n",
    "import pandas as pd\n",
    "from datetime import datetime\n",
    "from glob import glob\n",
    "import numpy as np\n",
    "from backtesting import Backtest\n",
    "from ConnorsReversalStrategy import ConnorsReversal\n",
    "import warnings\n",
    "warnings.filterwarnings('ignore')"
   ]
  },
  {
   "cell_type": "code",
   "execution_count": 2,
   "metadata": {},
   "outputs": [],
   "source": [
    "def load_and_resample_data(symbol, start_date, end_date, source_timeframe='1m', target_timeframe='30min', data_path=r'\\\\znas\\Main\\future'):\n",
    "    \"\"\"\n",
    "    加载并重采样期货数据\n",
    "    \"\"\"\n",
    "    # 生成日期范围\n",
    "    date_range = pd.date_range(start=start_date, end=end_date, freq='D')\n",
    "    \n",
    "    # 准备存储所有数据的列表\n",
    "    all_data = []\n",
    "    \n",
    "    # 标准化交易对名称\n",
    "    formatted_symbol = symbol.replace('/', '_').replace(':', '_')\n",
    "    if not formatted_symbol.endswith('USDT'):\n",
    "        formatted_symbol = f\"{formatted_symbol}USDT\"\n",
    "    \n",
    "    # 遍历每一天\n",
    "    for date in date_range:\n",
    "        date_str = date.strftime('%Y-%m-%d')\n",
    "        # 构建文件路径\n",
    "        file_path = os.path.join(data_path, date_str, f\"{date_str}_{formatted_symbol}_USDT_{source_timeframe}.csv\")\n",
    "        \n",
    "        try:\n",
    "            if os.path.exists(file_path):\n",
    "                # 读取数据\n",
    "                df = pd.read_csv(file_path)\n",
    "                df['datetime'] = pd.to_datetime(df['datetime'])\n",
    "                all_data.append(df)\n",
    "            else:\n",
    "                print(f\"文件不存在: {file_path}\")\n",
    "        except Exception as e:\n",
    "            print(f\"读取文件出错 {file_path}: {str(e)}\")\n",
    "            continue\n",
    "    \n",
    "    if not all_data:\n",
    "        raise ValueError(f\"未找到 {symbol} 在指定日期范围内的数据\")\n",
    "    \n",
    "    # 合并所有数据\n",
    "    combined_df = pd.concat(all_data, ignore_index=True)\n",
    "    combined_df = combined_df.sort_values('datetime')\n",
    "    \n",
    "    # 设置时间索引\n",
    "    combined_df.set_index('datetime', inplace=True)\n",
    "    \n",
    "    # 重采样到目标时间周期\n",
    "    resampled = combined_df.resample(target_timeframe).agg({\n",
    "        'open': 'first',\n",
    "        'high': 'max',\n",
    "        'low': 'min',\n",
    "        'close': 'last',\n",
    "        'volume': 'sum'\n",
    "    }).dropna()  # 立即删除NaN值\n",
    "    \n",
    "    # 转换为backtesting.py格式\n",
    "    backtesting_df = pd.DataFrame({\n",
    "        'Open': resampled['open'],\n",
    "        'High': resampled['high'],\n",
    "        'Low': resampled['low'],\n",
    "        'Close': resampled['close'],\n",
    "        'Volume': resampled['volume']\n",
    "    })\n",
    "    \n",
    "    # 确保所有数据都是数值类型并删除任何无效值\n",
    "    for col in ['Open', 'High', 'Low', 'Close', 'Volume']:\n",
    "        backtesting_df[col] = pd.to_numeric(backtesting_df[col], errors='coerce')\n",
    "    \n",
    "    # 最终清理\n",
    "    backtesting_df = backtesting_df.dropna()\n",
    "    \n",
    "    return backtesting_df"
   ]
  },
  {
   "cell_type": "code",
   "execution_count": 3,
   "metadata": {},
   "outputs": [],
   "source": [
    "def get_all_symbols(data_path, date_str):\n",
    "    \"\"\"获取指定日期目录下的所有交易对\"\"\"\n",
    "    daily_path = os.path.join(data_path, date_str)\n",
    "    if not os.path.exists(daily_path):\n",
    "        return []\n",
    "    \n",
    "    files = glob(os.path.join(daily_path, f\"{date_str}_*_USDT_1m.csv\"))\n",
    "    symbols = []\n",
    "    for file in files:\n",
    "        # 从文件名提取交易对名称\n",
    "        filename = os.path.basename(file)\n",
    "        symbol = filename.split('_')[1]\n",
    "        if symbol not in symbols:\n",
    "            symbols.append(symbol)\n",
    "    return symbols\n",
    "\n",
    "def verify_data_completeness(symbol, start_date, end_date, data_path):\n",
    "    \"\"\"验证交易对在指定时间段内的数据完整性\"\"\"\n",
    "    date_range = pd.date_range(start=start_date, end=end_date, freq='D')\n",
    "    for date in date_range:\n",
    "        date_str = date.strftime('%Y-%m-%d')\n",
    "        file_path = os.path.join(data_path, date_str, f\"{date_str}_{symbol}_USDT_1m.csv\")\n",
    "        if not os.path.exists(file_path):\n",
    "            return False\n",
    "    return True"
   ]
  },
  {
   "cell_type": "code",
   "execution_count": 4,
   "metadata": {},
   "outputs": [],
   "source": [
    "def optimize_strategy(symbol, start_date, end_date, data_path):\n",
    "    \"\"\"对单个交易对进行策略优化\"\"\"\n",
    "    try:\n",
    "        print(f\"开始加载 {symbol} 的数据...\")\n",
    "        # 加载数据\n",
    "        df = load_and_resample_data(\n",
    "            symbol=symbol,\n",
    "            start_date=start_date,\n",
    "            end_date=end_date,\n",
    "            source_timeframe='1m',\n",
    "            target_timeframe='30min'\n",
    "        )\n",
    "        # print(f\"数据加载完成, 共 {len(df)} 条记录\")\n",
    "        # print(f\"数据时间范围: {df.index[0]} 到 {df.index[-1]}\")\n",
    "        # print(f\"数据列: {df.columns.tolist()}\")\n",
    "        # \n",
    "        # print(\"\\n初始化回测实例...\")\n",
    "        # 初始化回测实例\n",
    "        bt = Backtest(\n",
    "            df,\n",
    "            ConnorsReversal,\n",
    "            commission=.0004,\n",
    "            margin=1/8,\n",
    "            trade_on_close=True,\n",
    "            exclusive_orders=True,\n",
    "            hedging=False\n",
    "        )\n",
    "        # print(\"回测实例初始化完成\")\n",
    "        \n",
    "        print(\"\\n开始参数优化...\")\n",
    "        # print(\"优化参数范围:\")\n",
    "        # print(\"- lowest_point_bars: 5-50, 步长5\")\n",
    "        # print(\"- rsi_length: 2-50, 步长5\")\n",
    "        # print(\"- sell_barrier: 65-85, 步长5\")\n",
    "        # print(\"- dca_parts: 4-11, 步长1\")\n",
    "\n",
    "        # 定义优化参数范围并使用sambo方法\n",
    "        opt_results = bt.optimize(\n",
    "            lowest_point_bars=range(5, 51, 5),\n",
    "            rsi_length=range(2, 51, 5),\n",
    "            sell_barrier=range(65, 86, 5),\n",
    "            dca_parts=range(4, 12, 1),\n",
    "            maximize='Return [%]',\n",
    "            constraint=lambda p: True,\n",
    "            method='sambo',\n",
    "            max_tries=200,\n",
    "            random_state=0\n",
    "        )\n",
    "        \n",
    "        # 扩展结果字典\n",
    "        result = {\n",
    "            'Symbol': symbol,\n",
    "            'Initial Capital': 10000,\n",
    "            'Lowest Point Bars': opt_results._strategy.lowest_point_bars,\n",
    "            'RSI Length': opt_results._strategy.rsi_length,\n",
    "            'Sell Barrier': opt_results._strategy.sell_barrier,\n",
    "            'DCA Parts': opt_results._strategy.dca_parts,\n",
    "            'Total Return (%)': opt_results['Return [%]'],\n",
    "            'Sharpe Ratio': opt_results['Sharpe Ratio'],\n",
    "            'Max Drawdown (%)': opt_results['Max. Drawdown [%]'],\n",
    "            'Win Rate (%)': opt_results['Win Rate [%]'],\n",
    "            'Total Trades': opt_results['# Trades'],\n",
    "            'Optimization Date': datetime.now().strftime('%Y-%m-%d %H:%M:%S')\n",
    "        }\n",
    "        # 立即保存当前结果到Excel\n",
    "        results_file = 'optimization_results.xlsx'\n",
    "        \n",
    "        try:\n",
    "            # 尝试读取现有文件\n",
    "            existing_df = pd.read_excel(results_file)\n",
    "            # 添加新结果\n",
    "            new_df = pd.concat([existing_df, pd.DataFrame([result])], ignore_index=True)\n",
    "        except FileNotFoundError:\n",
    "            # 如果文件不存在，创建新的DataFrame\n",
    "            new_df = pd.DataFrame([result])\n",
    "        \n",
    "        # 保存更新后的结果\n",
    "        new_df.to_excel(results_file, index=False)\n",
    "        # print(f\"\\n已将{symbol}的优化结果保存到: {os.path.abspath(results_file)}\")\n",
    "        \n",
    "        # 打印优化结果\n",
    "        # print(\"\\n=== 最优参数 ===\")\n",
    "        # print(f\"最低点周期: {result['Lowest Point Bars']}\")\n",
    "        # print(f\"RSI周期: {result['RSI Length']}\")\n",
    "        # print(f\"RSI卖出阈值: {result['Sell Barrier']}\")\n",
    "        # print(f\"DCA分批次数: {result['DCA Parts']}\")\n",
    "        \n",
    "        # print(\"\\n=== 回测结果 ===\")\n",
    "        # print(f\"总收益率: {result['Total Return (%)']}%\")\n",
    "        # print(f\"夏普比率: {result['Sharpe Ratio']}\")\n",
    "        # print(f\"最大回撤: {result['Max Drawdown (%)']}%\")\n",
    "        # print(f\"胜率: {result['Win Rate (%)']}%\")\n",
    "        # print(f\"总交易次数: {result['Total Trades']}\")\n",
    "        \n",
    "        return result\n",
    "        \n",
    "    except Exception as e:\n",
    "        print(f\"优化{symbol}时出错: {str(e)}\")\n",
    "        print(f\"错误类型: {type(e).__name__}\")\n",
    "        print(f\"错误详情: {str(e)}\")\n",
    "        import traceback\n",
    "        print(\"完整错误追踪:\")\n",
    "        print(traceback.format_exc())\n",
    "        return None\n",
    "\n",
    "# 主执行代码部分保持不变，因为optimize_strategy函数已经处理了结果的保存"
   ]
  },
  {
   "cell_type": "code",
   "execution_count": 5,
   "metadata": {},
   "outputs": [
    {
     "name": "stdout",
     "output_type": "stream",
     "text": [
      "使用数据路径: \\\\znas\\Main\\future\n",
      "回测时间范围: 2024-01-01 到 2025-01-01\n",
      "找到 45 个交易对:\n",
      "ADAUSDT\n",
      "ALGOUSDT\n",
      "ATOMUSDT\n",
      "BALUSDT\n",
      "BANDUSDT\n",
      "BATUSDT\n",
      "BCHUSDT\n",
      "BNBUSDT\n",
      "BTCUSDT\n",
      "COMPUSDT\n",
      "CRVUSDT\n",
      "DASHUSDT\n",
      "DEFIUSDT\n",
      "DOGEUSDT\n",
      "DOTUSDT\n",
      "EOSUSDT\n",
      "ETCUSDT\n",
      "ETHUSDT\n",
      "IOSTUSDT\n",
      "IOTAUSDT\n",
      "KASUSDT\n",
      "KAVAUSDT\n",
      "KNCUSDT\n",
      "LINKUSDT\n",
      "LTCUSDT\n",
      "MKRUSDT\n",
      "NEOUSDT\n",
      "OMGUSDT\n",
      "ONTUSDT\n",
      "QTUMUSDT\n",
      "RLCUSDT\n",
      "SNXUSDT\n",
      "SXPUSDT\n",
      "THETAUSDT\n",
      "TRXUSDT\n",
      "VETUSDT\n",
      "WAVESUSDT\n",
      "XLMUSDT\n",
      "XMRUSDT\n",
      "XRPUSDT\n",
      "XTZUSDT\n",
      "YFIUSDT\n",
      "ZECUSDT\n",
      "ZILUSDT\n",
      "ZRXUSDT\n",
      "\n",
      "正在处理第 1/45 个交易对: ADAUSDT\n",
      "--------------------------------------------------\n",
      "验证 ADAUSDT 的数据完整性...\n",
      "ADAUSDT 数据完整性验证通过\n",
      "开始优化 ADAUSDT...\n",
      "开始加载 ADAUSDT 的数据...\n",
      "\n",
      "开始参数优化...\n",
      "['c:\\\\Users\\\\x7498\\\\anaconda3\\\\envs\\\\backtesting\\\\python310.zip', 'c:\\\\Users\\\\x7498\\\\anaconda3\\\\envs\\\\backtesting\\\\DLLs', 'c:\\\\Users\\\\x7498\\\\anaconda3\\\\envs\\\\backtesting\\\\lib', 'c:\\\\Users\\\\x7498\\\\anaconda3\\\\envs\\\\backtesting', '', 'c:\\\\Users\\\\x7498\\\\anaconda3\\\\envs\\\\backtesting\\\\lib\\\\site-packages', 'c:\\\\Users\\\\x7498\\\\anaconda3\\\\envs\\\\backtesting\\\\lib\\\\site-packages\\\\win32', 'c:\\\\Users\\\\x7498\\\\anaconda3\\\\envs\\\\backtesting\\\\lib\\\\site-packages\\\\win32\\\\lib', 'c:\\\\Users\\\\x7498\\\\anaconda3\\\\envs\\\\backtesting\\\\lib\\\\site-packages\\\\Pythonwin']\n"
     ]
    },
    {
     "data": {
      "application/vnd.jupyter.widget-view+json": {
       "model_id": "00dec4ace59b42a680825983e8157195",
       "version_major": 2,
       "version_minor": 0
      },
      "text/plain": [
       "Backtest.optimize:   0%|          | 0/200 [00:00<?, ?it/s]"
      ]
     },
     "metadata": {},
     "output_type": "display_data"
    },
    {
     "name": "stdout",
     "output_type": "stream",
     "text": [
      "优化结果:\n",
      "  Symbol: ADAUSDT\n",
      "  Initial Capital: 10000\n",
      "  Lowest Point Bars: 19\n",
      "  RSI Length: 5\n",
      "  Sell Barrier: 65\n",
      "  DCA Parts: 6\n",
      "  Total Return (%): 1083.9879936356133\n",
      "  Sharpe Ratio: 0.5419700428690508\n",
      "  Max Drawdown (%): -72.53127825720777\n",
      "  Win Rate (%): 57.76772247360482\n",
      "  Total Trades: 663\n",
      "  Optimization Date: 2025-02-02 00:17:18\n",
      "完成 ADAUSDT 的优化\n",
      "\n",
      "正在处理第 2/45 个交易对: ALGOUSDT\n",
      "--------------------------------------------------\n",
      "验证 ALGOUSDT 的数据完整性...\n",
      "ALGOUSDT 数据完整性验证通过\n",
      "开始优化 ALGOUSDT...\n",
      "开始加载 ALGOUSDT 的数据...\n",
      "\n",
      "开始参数优化...\n",
      "['c:\\\\Users\\\\x7498\\\\anaconda3\\\\envs\\\\backtesting\\\\python310.zip', 'c:\\\\Users\\\\x7498\\\\anaconda3\\\\envs\\\\backtesting\\\\DLLs', 'c:\\\\Users\\\\x7498\\\\anaconda3\\\\envs\\\\backtesting\\\\lib', 'c:\\\\Users\\\\x7498\\\\anaconda3\\\\envs\\\\backtesting', '', 'c:\\\\Users\\\\x7498\\\\anaconda3\\\\envs\\\\backtesting\\\\lib\\\\site-packages', 'c:\\\\Users\\\\x7498\\\\anaconda3\\\\envs\\\\backtesting\\\\lib\\\\site-packages\\\\win32', 'c:\\\\Users\\\\x7498\\\\anaconda3\\\\envs\\\\backtesting\\\\lib\\\\site-packages\\\\win32\\\\lib', 'c:\\\\Users\\\\x7498\\\\anaconda3\\\\envs\\\\backtesting\\\\lib\\\\site-packages\\\\Pythonwin']\n"
     ]
    },
    {
     "data": {
      "application/vnd.jupyter.widget-view+json": {
       "model_id": "90e7457bd9d84c819bd9fd306d5a45ac",
       "version_major": 2,
       "version_minor": 0
      },
      "text/plain": [
       "Backtest.optimize:   0%|          | 0/200 [00:00<?, ?it/s]"
      ]
     },
     "metadata": {},
     "output_type": "display_data"
    },
    {
     "name": "stdout",
     "output_type": "stream",
     "text": [
      "优化结果:\n",
      "  Symbol: ALGOUSDT\n",
      "  Initial Capital: 10000\n",
      "  Lowest Point Bars: 48\n",
      "  RSI Length: 3\n",
      "  Sell Barrier: 85\n",
      "  DCA Parts: 10\n",
      "  Total Return (%): 272.10144074960385\n",
      "  Sharpe Ratio: 0.7437847974949119\n",
      "  Max Drawdown (%): -51.9154020353656\n",
      "  Win Rate (%): 52.77777777777778\n",
      "  Total Trades: 360\n",
      "  Optimization Date: 2025-02-02 00:18:38\n",
      "完成 ALGOUSDT 的优化\n",
      "\n",
      "正在处理第 3/45 个交易对: ATOMUSDT\n",
      "--------------------------------------------------\n",
      "验证 ATOMUSDT 的数据完整性...\n",
      "ATOMUSDT 数据完整性验证通过\n",
      "开始优化 ATOMUSDT...\n",
      "开始加载 ATOMUSDT 的数据...\n",
      "\n",
      "开始参数优化...\n",
      "['c:\\\\Users\\\\x7498\\\\anaconda3\\\\envs\\\\backtesting\\\\python310.zip', 'c:\\\\Users\\\\x7498\\\\anaconda3\\\\envs\\\\backtesting\\\\DLLs', 'c:\\\\Users\\\\x7498\\\\anaconda3\\\\envs\\\\backtesting\\\\lib', 'c:\\\\Users\\\\x7498\\\\anaconda3\\\\envs\\\\backtesting', '', 'c:\\\\Users\\\\x7498\\\\anaconda3\\\\envs\\\\backtesting\\\\lib\\\\site-packages', 'c:\\\\Users\\\\x7498\\\\anaconda3\\\\envs\\\\backtesting\\\\lib\\\\site-packages\\\\win32', 'c:\\\\Users\\\\x7498\\\\anaconda3\\\\envs\\\\backtesting\\\\lib\\\\site-packages\\\\win32\\\\lib', 'c:\\\\Users\\\\x7498\\\\anaconda3\\\\envs\\\\backtesting\\\\lib\\\\site-packages\\\\Pythonwin']\n"
     ]
    },
    {
     "data": {
      "application/vnd.jupyter.widget-view+json": {
       "model_id": "56a0c0a5b3944cee81a3f6335907528d",
       "version_major": 2,
       "version_minor": 0
      },
      "text/plain": [
       "Backtest.optimize:   0%|          | 0/200 [00:00<?, ?it/s]"
      ]
     },
     "metadata": {},
     "output_type": "display_data"
    },
    {
     "name": "stdout",
     "output_type": "stream",
     "text": [
      "优化结果:\n",
      "  Symbol: ATOMUSDT\n",
      "  Initial Capital: 10000\n",
      "  Lowest Point Bars: 38\n",
      "  RSI Length: 2\n",
      "  Sell Barrier: 82\n",
      "  DCA Parts: 8\n",
      "  Total Return (%): 158.6542653520044\n",
      "  Sharpe Ratio: 0.9877307807233173\n",
      "  Max Drawdown (%): -55.740845026094696\n",
      "  Win Rate (%): 64.29906542056075\n",
      "  Total Trades: 535\n",
      "  Optimization Date: 2025-02-02 00:21:31\n",
      "完成 ATOMUSDT 的优化\n",
      "\n",
      "正在处理第 4/45 个交易对: BALUSDT\n",
      "--------------------------------------------------\n",
      "验证 BALUSDT 的数据完整性...\n",
      "BALUSDT 数据完整性验证通过\n",
      "开始优化 BALUSDT...\n",
      "开始加载 BALUSDT 的数据...\n",
      "\n",
      "开始参数优化...\n",
      "['c:\\\\Users\\\\x7498\\\\anaconda3\\\\envs\\\\backtesting\\\\python310.zip', 'c:\\\\Users\\\\x7498\\\\anaconda3\\\\envs\\\\backtesting\\\\DLLs', 'c:\\\\Users\\\\x7498\\\\anaconda3\\\\envs\\\\backtesting\\\\lib', 'c:\\\\Users\\\\x7498\\\\anaconda3\\\\envs\\\\backtesting', '', 'c:\\\\Users\\\\x7498\\\\anaconda3\\\\envs\\\\backtesting\\\\lib\\\\site-packages', 'c:\\\\Users\\\\x7498\\\\anaconda3\\\\envs\\\\backtesting\\\\lib\\\\site-packages\\\\win32', 'c:\\\\Users\\\\x7498\\\\anaconda3\\\\envs\\\\backtesting\\\\lib\\\\site-packages\\\\win32\\\\lib', 'c:\\\\Users\\\\x7498\\\\anaconda3\\\\envs\\\\backtesting\\\\lib\\\\site-packages\\\\Pythonwin']\n"
     ]
    },
    {
     "data": {
      "application/vnd.jupyter.widget-view+json": {
       "model_id": "71128f0b044c4c449505df8c1a0f34b7",
       "version_major": 2,
       "version_minor": 0
      },
      "text/plain": [
       "Backtest.optimize:   0%|          | 0/200 [00:00<?, ?it/s]"
      ]
     },
     "metadata": {},
     "output_type": "display_data"
    },
    {
     "name": "stdout",
     "output_type": "stream",
     "text": [
      "优化结果:\n",
      "  Symbol: BALUSDT\n",
      "  Initial Capital: 10000\n",
      "  Lowest Point Bars: 50\n",
      "  RSI Length: 2\n",
      "  Sell Barrier: 85\n",
      "  DCA Parts: 11\n",
      "  Total Return (%): 54.96225428800242\n",
      "  Sharpe Ratio: 0.7258491376448101\n",
      "  Max Drawdown (%): -48.06551163201207\n",
      "  Win Rate (%): 59.512195121951216\n",
      "  Total Trades: 410\n",
      "  Optimization Date: 2025-02-02 00:22:44\n",
      "完成 BALUSDT 的优化\n",
      "\n",
      "正在处理第 5/45 个交易对: BANDUSDT\n",
      "--------------------------------------------------\n",
      "验证 BANDUSDT 的数据完整性...\n",
      "BANDUSDT 数据完整性验证通过\n",
      "开始优化 BANDUSDT...\n",
      "开始加载 BANDUSDT 的数据...\n",
      "\n",
      "开始参数优化...\n",
      "['c:\\\\Users\\\\x7498\\\\anaconda3\\\\envs\\\\backtesting\\\\python310.zip', 'c:\\\\Users\\\\x7498\\\\anaconda3\\\\envs\\\\backtesting\\\\DLLs', 'c:\\\\Users\\\\x7498\\\\anaconda3\\\\envs\\\\backtesting\\\\lib', 'c:\\\\Users\\\\x7498\\\\anaconda3\\\\envs\\\\backtesting', '', 'c:\\\\Users\\\\x7498\\\\anaconda3\\\\envs\\\\backtesting\\\\lib\\\\site-packages', 'c:\\\\Users\\\\x7498\\\\anaconda3\\\\envs\\\\backtesting\\\\lib\\\\site-packages\\\\win32', 'c:\\\\Users\\\\x7498\\\\anaconda3\\\\envs\\\\backtesting\\\\lib\\\\site-packages\\\\win32\\\\lib', 'c:\\\\Users\\\\x7498\\\\anaconda3\\\\envs\\\\backtesting\\\\lib\\\\site-packages\\\\Pythonwin']\n"
     ]
    },
    {
     "data": {
      "application/vnd.jupyter.widget-view+json": {
       "model_id": "4a594c4d9a0f4068a9b54731f1d2a553",
       "version_major": 2,
       "version_minor": 0
      },
      "text/plain": [
       "Backtest.optimize:   0%|          | 0/200 [00:00<?, ?it/s]"
      ]
     },
     "metadata": {},
     "output_type": "display_data"
    },
    {
     "name": "stdout",
     "output_type": "stream",
     "text": [
      "优化结果:\n",
      "  Symbol: BANDUSDT\n",
      "  Initial Capital: 10000\n",
      "  Lowest Point Bars: 22\n",
      "  RSI Length: 10\n",
      "  Sell Barrier: 65\n",
      "  DCA Parts: 4\n",
      "  Total Return (%): 1042.134171368833\n",
      "  Sharpe Ratio: 0.05676298525828673\n",
      "  Max Drawdown (%): -89.83757717939889\n",
      "  Win Rate (%): 49.0238611713666\n",
      "  Total Trades: 461\n",
      "  Optimization Date: 2025-02-02 00:23:58\n",
      "完成 BANDUSDT 的优化\n",
      "\n",
      "正在处理第 6/45 个交易对: BATUSDT\n",
      "--------------------------------------------------\n",
      "验证 BATUSDT 的数据完整性...\n",
      "BATUSDT 数据完整性验证通过\n",
      "开始优化 BATUSDT...\n",
      "开始加载 BATUSDT 的数据...\n",
      "\n",
      "开始参数优化...\n",
      "['c:\\\\Users\\\\x7498\\\\anaconda3\\\\envs\\\\backtesting\\\\python310.zip', 'c:\\\\Users\\\\x7498\\\\anaconda3\\\\envs\\\\backtesting\\\\DLLs', 'c:\\\\Users\\\\x7498\\\\anaconda3\\\\envs\\\\backtesting\\\\lib', 'c:\\\\Users\\\\x7498\\\\anaconda3\\\\envs\\\\backtesting', '', 'c:\\\\Users\\\\x7498\\\\anaconda3\\\\envs\\\\backtesting\\\\lib\\\\site-packages', 'c:\\\\Users\\\\x7498\\\\anaconda3\\\\envs\\\\backtesting\\\\lib\\\\site-packages\\\\win32', 'c:\\\\Users\\\\x7498\\\\anaconda3\\\\envs\\\\backtesting\\\\lib\\\\site-packages\\\\win32\\\\lib', 'c:\\\\Users\\\\x7498\\\\anaconda3\\\\envs\\\\backtesting\\\\lib\\\\site-packages\\\\Pythonwin']\n"
     ]
    },
    {
     "data": {
      "application/vnd.jupyter.widget-view+json": {
       "model_id": "50fb7d457b5748d496012c90ca4a8fc2",
       "version_major": 2,
       "version_minor": 0
      },
      "text/plain": [
       "Backtest.optimize:   0%|          | 0/200 [00:00<?, ?it/s]"
      ]
     },
     "metadata": {},
     "output_type": "display_data"
    },
    {
     "name": "stdout",
     "output_type": "stream",
     "text": [
      "优化结果:\n",
      "  Symbol: BATUSDT\n",
      "  Initial Capital: 10000\n",
      "  Lowest Point Bars: 50\n",
      "  RSI Length: 6\n",
      "  Sell Barrier: 68\n",
      "  DCA Parts: 11\n",
      "  Total Return (%): 338.54100351040336\n",
      "  Sharpe Ratio: 1.0778627325719863\n",
      "  Max Drawdown (%): -56.86496999733684\n",
      "  Win Rate (%): 56.09065155807366\n",
      "  Total Trades: 353\n",
      "  Optimization Date: 2025-02-02 00:25:12\n",
      "完成 BATUSDT 的优化\n",
      "\n",
      "正在处理第 7/45 个交易对: BCHUSDT\n",
      "--------------------------------------------------\n",
      "验证 BCHUSDT 的数据完整性...\n",
      "BCHUSDT 数据完整性验证通过\n",
      "开始优化 BCHUSDT...\n",
      "开始加载 BCHUSDT 的数据...\n",
      "\n",
      "开始参数优化...\n",
      "['c:\\\\Users\\\\x7498\\\\anaconda3\\\\envs\\\\backtesting\\\\python310.zip', 'c:\\\\Users\\\\x7498\\\\anaconda3\\\\envs\\\\backtesting\\\\DLLs', 'c:\\\\Users\\\\x7498\\\\anaconda3\\\\envs\\\\backtesting\\\\lib', 'c:\\\\Users\\\\x7498\\\\anaconda3\\\\envs\\\\backtesting', '', 'c:\\\\Users\\\\x7498\\\\anaconda3\\\\envs\\\\backtesting\\\\lib\\\\site-packages', 'c:\\\\Users\\\\x7498\\\\anaconda3\\\\envs\\\\backtesting\\\\lib\\\\site-packages\\\\win32', 'c:\\\\Users\\\\x7498\\\\anaconda3\\\\envs\\\\backtesting\\\\lib\\\\site-packages\\\\win32\\\\lib', 'c:\\\\Users\\\\x7498\\\\anaconda3\\\\envs\\\\backtesting\\\\lib\\\\site-packages\\\\Pythonwin']\n"
     ]
    },
    {
     "data": {
      "application/vnd.jupyter.widget-view+json": {
       "model_id": "df6fa1bc3c3f4cc1bcb2ad362a0fd398",
       "version_major": 2,
       "version_minor": 0
      },
      "text/plain": [
       "Backtest.optimize:   0%|          | 0/200 [00:00<?, ?it/s]"
      ]
     },
     "metadata": {},
     "output_type": "display_data"
    },
    {
     "name": "stdout",
     "output_type": "stream",
     "text": [
      "优化结果:\n",
      "  Symbol: BCHUSDT\n",
      "  Initial Capital: 10000\n",
      "  Lowest Point Bars: 46\n",
      "  RSI Length: 47\n",
      "  Sell Barrier: 84\n",
      "  DCA Parts: 5\n",
      "  Total Return (%): 330.39073636\n",
      "  Sharpe Ratio: 0.055088553238736314\n",
      "  Max Drawdown (%): -82.77443890092262\n",
      "  Win Rate (%): 25.0\n",
      "  Total Trades: 4\n",
      "  Optimization Date: 2025-02-02 00:26:39\n",
      "完成 BCHUSDT 的优化\n",
      "\n",
      "正在处理第 8/45 个交易对: BNBUSDT\n",
      "--------------------------------------------------\n",
      "验证 BNBUSDT 的数据完整性...\n",
      "BNBUSDT 数据完整性验证通过\n",
      "开始优化 BNBUSDT...\n",
      "开始加载 BNBUSDT 的数据...\n",
      "\n",
      "开始参数优化...\n",
      "['c:\\\\Users\\\\x7498\\\\anaconda3\\\\envs\\\\backtesting\\\\python310.zip', 'c:\\\\Users\\\\x7498\\\\anaconda3\\\\envs\\\\backtesting\\\\DLLs', 'c:\\\\Users\\\\x7498\\\\anaconda3\\\\envs\\\\backtesting\\\\lib', 'c:\\\\Users\\\\x7498\\\\anaconda3\\\\envs\\\\backtesting', '', 'c:\\\\Users\\\\x7498\\\\anaconda3\\\\envs\\\\backtesting\\\\lib\\\\site-packages', 'c:\\\\Users\\\\x7498\\\\anaconda3\\\\envs\\\\backtesting\\\\lib\\\\site-packages\\\\win32', 'c:\\\\Users\\\\x7498\\\\anaconda3\\\\envs\\\\backtesting\\\\lib\\\\site-packages\\\\win32\\\\lib', 'c:\\\\Users\\\\x7498\\\\anaconda3\\\\envs\\\\backtesting\\\\lib\\\\site-packages\\\\Pythonwin']\n"
     ]
    },
    {
     "data": {
      "application/vnd.jupyter.widget-view+json": {
       "model_id": "945de9260f7144279aa4743e76f47931",
       "version_major": 2,
       "version_minor": 0
      },
      "text/plain": [
       "Backtest.optimize:   0%|          | 0/200 [00:00<?, ?it/s]"
      ]
     },
     "metadata": {},
     "output_type": "display_data"
    },
    {
     "name": "stdout",
     "output_type": "stream",
     "text": [
      "优化结果:\n",
      "  Symbol: BNBUSDT\n",
      "  Initial Capital: 10000\n",
      "  Lowest Point Bars: 28\n",
      "  RSI Length: 4\n",
      "  Sell Barrier: 69\n",
      "  DCA Parts: 4\n",
      "  Total Return (%): 1161.9207391600262\n",
      "  Sharpe Ratio: 0.9198054036238775\n",
      "  Max Drawdown (%): -76.5164994688755\n",
      "  Win Rate (%): 62.8755364806867\n",
      "  Total Trades: 466\n",
      "  Optimization Date: 2025-02-02 00:28:28\n",
      "完成 BNBUSDT 的优化\n",
      "\n",
      "正在处理第 9/45 个交易对: BTCUSDT\n",
      "--------------------------------------------------\n",
      "验证 BTCUSDT 的数据完整性...\n",
      "BTCUSDT 数据完整性验证通过\n",
      "开始优化 BTCUSDT...\n",
      "开始加载 BTCUSDT 的数据...\n",
      "\n",
      "开始参数优化...\n",
      "['c:\\\\Users\\\\x7498\\\\anaconda3\\\\envs\\\\backtesting\\\\python310.zip', 'c:\\\\Users\\\\x7498\\\\anaconda3\\\\envs\\\\backtesting\\\\DLLs', 'c:\\\\Users\\\\x7498\\\\anaconda3\\\\envs\\\\backtesting\\\\lib', 'c:\\\\Users\\\\x7498\\\\anaconda3\\\\envs\\\\backtesting', '', 'c:\\\\Users\\\\x7498\\\\anaconda3\\\\envs\\\\backtesting\\\\lib\\\\site-packages', 'c:\\\\Users\\\\x7498\\\\anaconda3\\\\envs\\\\backtesting\\\\lib\\\\site-packages\\\\win32', 'c:\\\\Users\\\\x7498\\\\anaconda3\\\\envs\\\\backtesting\\\\lib\\\\site-packages\\\\win32\\\\lib', 'c:\\\\Users\\\\x7498\\\\anaconda3\\\\envs\\\\backtesting\\\\lib\\\\site-packages\\\\Pythonwin']\n"
     ]
    },
    {
     "data": {
      "application/vnd.jupyter.widget-view+json": {
       "model_id": "db432fea373f46b28d3b4d2d74aa52d3",
       "version_major": 2,
       "version_minor": 0
      },
      "text/plain": [
       "Backtest.optimize:   0%|          | 0/200 [00:00<?, ?it/s]"
      ]
     },
     "metadata": {},
     "output_type": "display_data"
    },
    {
     "name": "stdout",
     "output_type": "stream",
     "text": [
      "优化结果:\n",
      "  Symbol: BTCUSDT\n",
      "  Initial Capital: 10000\n",
      "  Lowest Point Bars: 10\n",
      "  RSI Length: 27\n",
      "  Sell Barrier: 71\n",
      "  DCA Parts: 6\n",
      "  Total Return (%): 733.7263268000025\n",
      "  Sharpe Ratio: 0.09553408204034773\n",
      "  Max Drawdown (%): -93.58454125511334\n",
      "  Win Rate (%): 48.529411764705884\n",
      "  Total Trades: 68\n",
      "  Optimization Date: 2025-02-02 00:30:16\n",
      "完成 BTCUSDT 的优化\n",
      "\n",
      "正在处理第 10/45 个交易对: COMPUSDT\n",
      "--------------------------------------------------\n",
      "验证 COMPUSDT 的数据完整性...\n",
      "COMPUSDT 数据完整性验证通过\n",
      "开始优化 COMPUSDT...\n",
      "开始加载 COMPUSDT 的数据...\n",
      "\n",
      "开始参数优化...\n",
      "['c:\\\\Users\\\\x7498\\\\anaconda3\\\\envs\\\\backtesting\\\\python310.zip', 'c:\\\\Users\\\\x7498\\\\anaconda3\\\\envs\\\\backtesting\\\\DLLs', 'c:\\\\Users\\\\x7498\\\\anaconda3\\\\envs\\\\backtesting\\\\lib', 'c:\\\\Users\\\\x7498\\\\anaconda3\\\\envs\\\\backtesting', '', 'c:\\\\Users\\\\x7498\\\\anaconda3\\\\envs\\\\backtesting\\\\lib\\\\site-packages', 'c:\\\\Users\\\\x7498\\\\anaconda3\\\\envs\\\\backtesting\\\\lib\\\\site-packages\\\\win32', 'c:\\\\Users\\\\x7498\\\\anaconda3\\\\envs\\\\backtesting\\\\lib\\\\site-packages\\\\win32\\\\lib', 'c:\\\\Users\\\\x7498\\\\anaconda3\\\\envs\\\\backtesting\\\\lib\\\\site-packages\\\\Pythonwin']\n"
     ]
    },
    {
     "data": {
      "application/vnd.jupyter.widget-view+json": {
       "model_id": "2b0865caea8748f1b4ac60acb564739f",
       "version_major": 2,
       "version_minor": 0
      },
      "text/plain": [
       "Backtest.optimize:   0%|          | 0/200 [00:00<?, ?it/s]"
      ]
     },
     "metadata": {},
     "output_type": "display_data"
    },
    {
     "name": "stdout",
     "output_type": "stream",
     "text": [
      "优化结果:\n",
      "  Symbol: COMPUSDT\n",
      "  Initial Capital: 10000\n",
      "  Lowest Point Bars: 45\n",
      "  RSI Length: 3\n",
      "  Sell Barrier: 77\n",
      "  DCA Parts: 10\n",
      "  Total Return (%): 469.7452886800062\n",
      "  Sharpe Ratio: 1.2187284532489526\n",
      "  Max Drawdown (%): -51.266419454764886\n",
      "  Win Rate (%): 60.798122065727696\n",
      "  Total Trades: 426\n",
      "  Optimization Date: 2025-02-02 00:31:53\n",
      "完成 COMPUSDT 的优化\n",
      "\n",
      "正在处理第 11/45 个交易对: CRVUSDT\n",
      "--------------------------------------------------\n",
      "验证 CRVUSDT 的数据完整性...\n",
      "CRVUSDT 数据完整性验证通过\n",
      "开始优化 CRVUSDT...\n",
      "开始加载 CRVUSDT 的数据...\n",
      "\n",
      "开始参数优化...\n",
      "['c:\\\\Users\\\\x7498\\\\anaconda3\\\\envs\\\\backtesting\\\\python310.zip', 'c:\\\\Users\\\\x7498\\\\anaconda3\\\\envs\\\\backtesting\\\\DLLs', 'c:\\\\Users\\\\x7498\\\\anaconda3\\\\envs\\\\backtesting\\\\lib', 'c:\\\\Users\\\\x7498\\\\anaconda3\\\\envs\\\\backtesting', '', 'c:\\\\Users\\\\x7498\\\\anaconda3\\\\envs\\\\backtesting\\\\lib\\\\site-packages', 'c:\\\\Users\\\\x7498\\\\anaconda3\\\\envs\\\\backtesting\\\\lib\\\\site-packages\\\\win32', 'c:\\\\Users\\\\x7498\\\\anaconda3\\\\envs\\\\backtesting\\\\lib\\\\site-packages\\\\win32\\\\lib', 'c:\\\\Users\\\\x7498\\\\anaconda3\\\\envs\\\\backtesting\\\\lib\\\\site-packages\\\\Pythonwin']\n"
     ]
    },
    {
     "data": {
      "application/vnd.jupyter.widget-view+json": {
       "model_id": "9fab5b455a424e1488f27e4399d68466",
       "version_major": 2,
       "version_minor": 0
      },
      "text/plain": [
       "Backtest.optimize:   0%|          | 0/200 [00:00<?, ?it/s]"
      ]
     },
     "metadata": {},
     "output_type": "display_data"
    },
    {
     "name": "stdout",
     "output_type": "stream",
     "text": [
      "优化结果:\n",
      "  Symbol: CRVUSDT\n",
      "  Initial Capital: 10000\n",
      "  Lowest Point Bars: 40\n",
      "  RSI Length: 3\n",
      "  Sell Barrier: 81\n",
      "  DCA Parts: 10\n",
      "  Total Return (%): 812.301727168008\n",
      "  Sharpe Ratio: 0.9919498397392786\n",
      "  Max Drawdown (%): -61.50194331771382\n",
      "  Win Rate (%): 55.437100213219615\n",
      "  Total Trades: 469\n",
      "  Optimization Date: 2025-02-02 00:33:25\n",
      "完成 CRVUSDT 的优化\n",
      "\n",
      "正在处理第 12/45 个交易对: DASHUSDT\n",
      "--------------------------------------------------\n",
      "验证 DASHUSDT 的数据完整性...\n",
      "DASHUSDT 数据完整性验证通过\n",
      "开始优化 DASHUSDT...\n",
      "开始加载 DASHUSDT 的数据...\n",
      "\n",
      "开始参数优化...\n",
      "['c:\\\\Users\\\\x7498\\\\anaconda3\\\\envs\\\\backtesting\\\\python310.zip', 'c:\\\\Users\\\\x7498\\\\anaconda3\\\\envs\\\\backtesting\\\\DLLs', 'c:\\\\Users\\\\x7498\\\\anaconda3\\\\envs\\\\backtesting\\\\lib', 'c:\\\\Users\\\\x7498\\\\anaconda3\\\\envs\\\\backtesting', '', 'c:\\\\Users\\\\x7498\\\\anaconda3\\\\envs\\\\backtesting\\\\lib\\\\site-packages', 'c:\\\\Users\\\\x7498\\\\anaconda3\\\\envs\\\\backtesting\\\\lib\\\\site-packages\\\\win32', 'c:\\\\Users\\\\x7498\\\\anaconda3\\\\envs\\\\backtesting\\\\lib\\\\site-packages\\\\win32\\\\lib', 'c:\\\\Users\\\\x7498\\\\anaconda3\\\\envs\\\\backtesting\\\\lib\\\\site-packages\\\\Pythonwin']\n"
     ]
    },
    {
     "data": {
      "application/vnd.jupyter.widget-view+json": {
       "model_id": "07aec02234564dea98f757120e132875",
       "version_major": 2,
       "version_minor": 0
      },
      "text/plain": [
       "Backtest.optimize:   0%|          | 0/200 [00:00<?, ?it/s]"
      ]
     },
     "metadata": {},
     "output_type": "display_data"
    },
    {
     "name": "stdout",
     "output_type": "stream",
     "text": [
      "优化结果:\n",
      "  Symbol: DASHUSDT\n",
      "  Initial Capital: 10000\n",
      "  Lowest Point Bars: 40\n",
      "  RSI Length: 3\n",
      "  Sell Barrier: 80\n",
      "  DCA Parts: 6\n",
      "  Total Return (%): 1785.9304911600116\n",
      "  Sharpe Ratio: 0.7933494130077866\n",
      "  Max Drawdown (%): -63.57568474392359\n",
      "  Win Rate (%): 60.51401869158879\n",
      "  Total Trades: 428\n",
      "  Optimization Date: 2025-02-02 00:35:19\n",
      "完成 DASHUSDT 的优化\n",
      "\n",
      "正在处理第 13/45 个交易对: DEFIUSDT\n",
      "--------------------------------------------------\n",
      "验证 DEFIUSDT 的数据完整性...\n",
      "DEFIUSDT 数据完整性验证通过\n",
      "开始优化 DEFIUSDT...\n",
      "开始加载 DEFIUSDT 的数据...\n",
      "\n",
      "开始参数优化...\n",
      "['c:\\\\Users\\\\x7498\\\\anaconda3\\\\envs\\\\backtesting\\\\python310.zip', 'c:\\\\Users\\\\x7498\\\\anaconda3\\\\envs\\\\backtesting\\\\DLLs', 'c:\\\\Users\\\\x7498\\\\anaconda3\\\\envs\\\\backtesting\\\\lib', 'c:\\\\Users\\\\x7498\\\\anaconda3\\\\envs\\\\backtesting', '', 'c:\\\\Users\\\\x7498\\\\anaconda3\\\\envs\\\\backtesting\\\\lib\\\\site-packages', 'c:\\\\Users\\\\x7498\\\\anaconda3\\\\envs\\\\backtesting\\\\lib\\\\site-packages\\\\win32', 'c:\\\\Users\\\\x7498\\\\anaconda3\\\\envs\\\\backtesting\\\\lib\\\\site-packages\\\\win32\\\\lib', 'c:\\\\Users\\\\x7498\\\\anaconda3\\\\envs\\\\backtesting\\\\lib\\\\site-packages\\\\Pythonwin']\n"
     ]
    },
    {
     "data": {
      "application/vnd.jupyter.widget-view+json": {
       "model_id": "5e3fda11eadc42458d6fca87b5ab14e9",
       "version_major": 2,
       "version_minor": 0
      },
      "text/plain": [
       "Backtest.optimize:   0%|          | 0/200 [00:00<?, ?it/s]"
      ]
     },
     "metadata": {},
     "output_type": "display_data"
    },
    {
     "name": "stdout",
     "output_type": "stream",
     "text": [
      "优化结果:\n",
      "  Symbol: DEFIUSDT\n",
      "  Initial Capital: 10000\n",
      "  Lowest Point Bars: 28\n",
      "  RSI Length: 3\n",
      "  Sell Barrier: 81\n",
      "  DCA Parts: 11\n",
      "  Total Return (%): 293.24433880000447\n",
      "  Sharpe Ratio: 0.9085919527659859\n",
      "  Max Drawdown (%): -59.42399754550512\n",
      "  Win Rate (%): 58.01980198019802\n",
      "  Total Trades: 505\n",
      "  Optimization Date: 2025-02-02 00:37:06\n",
      "完成 DEFIUSDT 的优化\n",
      "\n",
      "正在处理第 14/45 个交易对: DOGEUSDT\n",
      "--------------------------------------------------\n",
      "验证 DOGEUSDT 的数据完整性...\n",
      "DOGEUSDT 数据完整性验证通过\n",
      "开始优化 DOGEUSDT...\n",
      "开始加载 DOGEUSDT 的数据...\n",
      "\n",
      "开始参数优化...\n",
      "['c:\\\\Users\\\\x7498\\\\anaconda3\\\\envs\\\\backtesting\\\\python310.zip', 'c:\\\\Users\\\\x7498\\\\anaconda3\\\\envs\\\\backtesting\\\\DLLs', 'c:\\\\Users\\\\x7498\\\\anaconda3\\\\envs\\\\backtesting\\\\lib', 'c:\\\\Users\\\\x7498\\\\anaconda3\\\\envs\\\\backtesting', '', 'c:\\\\Users\\\\x7498\\\\anaconda3\\\\envs\\\\backtesting\\\\lib\\\\site-packages', 'c:\\\\Users\\\\x7498\\\\anaconda3\\\\envs\\\\backtesting\\\\lib\\\\site-packages\\\\win32', 'c:\\\\Users\\\\x7498\\\\anaconda3\\\\envs\\\\backtesting\\\\lib\\\\site-packages\\\\win32\\\\lib', 'c:\\\\Users\\\\x7498\\\\anaconda3\\\\envs\\\\backtesting\\\\lib\\\\site-packages\\\\Pythonwin']\n"
     ]
    },
    {
     "data": {
      "application/vnd.jupyter.widget-view+json": {
       "model_id": "ca9bb1a22ee44eabae72df7b038e63dd",
       "version_major": 2,
       "version_minor": 0
      },
      "text/plain": [
       "Backtest.optimize:   0%|          | 0/200 [00:00<?, ?it/s]"
      ]
     },
     "metadata": {},
     "output_type": "display_data"
    },
    {
     "name": "stdout",
     "output_type": "stream",
     "text": [
      "优化结果:\n",
      "  Symbol: DOGEUSDT\n",
      "  Initial Capital: 10000\n",
      "  Lowest Point Bars: 34\n",
      "  RSI Length: 21\n",
      "  Sell Barrier: 83\n",
      "  DCA Parts: 7\n",
      "  Total Return (%): 1201.07910222508\n",
      "  Sharpe Ratio: 0.14401740215961284\n",
      "  Max Drawdown (%): -87.21021624474044\n",
      "  Win Rate (%): 22.22222222222222\n",
      "  Total Trades: 9\n",
      "  Optimization Date: 2025-02-02 00:39:00\n",
      "完成 DOGEUSDT 的优化\n",
      "\n",
      "正在处理第 15/45 个交易对: DOTUSDT\n",
      "--------------------------------------------------\n",
      "验证 DOTUSDT 的数据完整性...\n",
      "DOTUSDT 数据完整性验证通过\n",
      "开始优化 DOTUSDT...\n",
      "开始加载 DOTUSDT 的数据...\n",
      "\n",
      "开始参数优化...\n",
      "['c:\\\\Users\\\\x7498\\\\anaconda3\\\\envs\\\\backtesting\\\\python310.zip', 'c:\\\\Users\\\\x7498\\\\anaconda3\\\\envs\\\\backtesting\\\\DLLs', 'c:\\\\Users\\\\x7498\\\\anaconda3\\\\envs\\\\backtesting\\\\lib', 'c:\\\\Users\\\\x7498\\\\anaconda3\\\\envs\\\\backtesting', '', 'c:\\\\Users\\\\x7498\\\\anaconda3\\\\envs\\\\backtesting\\\\lib\\\\site-packages', 'c:\\\\Users\\\\x7498\\\\anaconda3\\\\envs\\\\backtesting\\\\lib\\\\site-packages\\\\win32', 'c:\\\\Users\\\\x7498\\\\anaconda3\\\\envs\\\\backtesting\\\\lib\\\\site-packages\\\\win32\\\\lib', 'c:\\\\Users\\\\x7498\\\\anaconda3\\\\envs\\\\backtesting\\\\lib\\\\site-packages\\\\Pythonwin']\n"
     ]
    },
    {
     "data": {
      "application/vnd.jupyter.widget-view+json": {
       "model_id": "8b5604ba6e244a259d89da2b629ac3a7",
       "version_major": 2,
       "version_minor": 0
      },
      "text/plain": [
       "Backtest.optimize:   0%|          | 0/200 [00:00<?, ?it/s]"
      ]
     },
     "metadata": {},
     "output_type": "display_data"
    },
    {
     "name": "stdout",
     "output_type": "stream",
     "text": [
      "优化结果:\n",
      "  Symbol: DOTUSDT\n",
      "  Initial Capital: 10000\n",
      "  Lowest Point Bars: 31\n",
      "  RSI Length: 5\n",
      "  Sell Barrier: 65\n",
      "  DCA Parts: 8\n",
      "  Total Return (%): 570.8139751800076\n",
      "  Sharpe Ratio: 0.9750769684420685\n",
      "  Max Drawdown (%): -56.35154938258344\n",
      "  Win Rate (%): 57.91505791505791\n",
      "  Total Trades: 518\n",
      "  Optimization Date: 2025-02-02 00:40:58\n",
      "完成 DOTUSDT 的优化\n",
      "\n",
      "正在处理第 16/45 个交易对: EOSUSDT\n",
      "--------------------------------------------------\n",
      "验证 EOSUSDT 的数据完整性...\n",
      "EOSUSDT 数据完整性验证通过\n",
      "开始优化 EOSUSDT...\n",
      "开始加载 EOSUSDT 的数据...\n",
      "\n",
      "开始参数优化...\n",
      "['c:\\\\Users\\\\x7498\\\\anaconda3\\\\envs\\\\backtesting\\\\python310.zip', 'c:\\\\Users\\\\x7498\\\\anaconda3\\\\envs\\\\backtesting\\\\DLLs', 'c:\\\\Users\\\\x7498\\\\anaconda3\\\\envs\\\\backtesting\\\\lib', 'c:\\\\Users\\\\x7498\\\\anaconda3\\\\envs\\\\backtesting', '', 'c:\\\\Users\\\\x7498\\\\anaconda3\\\\envs\\\\backtesting\\\\lib\\\\site-packages', 'c:\\\\Users\\\\x7498\\\\anaconda3\\\\envs\\\\backtesting\\\\lib\\\\site-packages\\\\win32', 'c:\\\\Users\\\\x7498\\\\anaconda3\\\\envs\\\\backtesting\\\\lib\\\\site-packages\\\\win32\\\\lib', 'c:\\\\Users\\\\x7498\\\\anaconda3\\\\envs\\\\backtesting\\\\lib\\\\site-packages\\\\Pythonwin']\n"
     ]
    },
    {
     "data": {
      "application/vnd.jupyter.widget-view+json": {
       "model_id": "a10004b1db8143ffaecc2d5ef2b8e293",
       "version_major": 2,
       "version_minor": 0
      },
      "text/plain": [
       "Backtest.optimize:   0%|          | 0/200 [00:00<?, ?it/s]"
      ]
     },
     "metadata": {},
     "output_type": "display_data"
    },
    {
     "name": "stdout",
     "output_type": "stream",
     "text": [
      "优化结果:\n",
      "  Symbol: EOSUSDT\n",
      "  Initial Capital: 10000\n",
      "  Lowest Point Bars: 50\n",
      "  RSI Length: 2\n",
      "  Sell Barrier: 65\n",
      "  DCA Parts: 6\n",
      "  Total Return (%): 48.71739177600537\n",
      "  Sharpe Ratio: 0.5396133035646822\n",
      "  Max Drawdown (%): -46.4711106185565\n",
      "  Win Rate (%): 61.97183098591549\n",
      "  Total Trades: 497\n",
      "  Optimization Date: 2025-02-02 00:44:52\n",
      "完成 EOSUSDT 的优化\n",
      "\n",
      "正在处理第 17/45 个交易对: ETCUSDT\n",
      "--------------------------------------------------\n",
      "验证 ETCUSDT 的数据完整性...\n",
      "ETCUSDT 数据完整性验证通过\n",
      "开始优化 ETCUSDT...\n",
      "开始加载 ETCUSDT 的数据...\n",
      "\n",
      "开始参数优化...\n",
      "['c:\\\\Users\\\\x7498\\\\anaconda3\\\\envs\\\\backtesting\\\\python310.zip', 'c:\\\\Users\\\\x7498\\\\anaconda3\\\\envs\\\\backtesting\\\\DLLs', 'c:\\\\Users\\\\x7498\\\\anaconda3\\\\envs\\\\backtesting\\\\lib', 'c:\\\\Users\\\\x7498\\\\anaconda3\\\\envs\\\\backtesting', '', 'c:\\\\Users\\\\x7498\\\\anaconda3\\\\envs\\\\backtesting\\\\lib\\\\site-packages', 'c:\\\\Users\\\\x7498\\\\anaconda3\\\\envs\\\\backtesting\\\\lib\\\\site-packages\\\\win32', 'c:\\\\Users\\\\x7498\\\\anaconda3\\\\envs\\\\backtesting\\\\lib\\\\site-packages\\\\win32\\\\lib', 'c:\\\\Users\\\\x7498\\\\anaconda3\\\\envs\\\\backtesting\\\\lib\\\\site-packages\\\\Pythonwin']\n"
     ]
    },
    {
     "data": {
      "application/vnd.jupyter.widget-view+json": {
       "model_id": "3cc047d909834221ae5bfa528196de17",
       "version_major": 2,
       "version_minor": 0
      },
      "text/plain": [
       "Backtest.optimize:   0%|          | 0/200 [00:00<?, ?it/s]"
      ]
     },
     "metadata": {},
     "output_type": "display_data"
    },
    {
     "name": "stdout",
     "output_type": "stream",
     "text": [
      "优化结果:\n",
      "  Symbol: ETCUSDT\n",
      "  Initial Capital: 10000\n",
      "  Lowest Point Bars: 47\n",
      "  RSI Length: 4\n",
      "  Sell Barrier: 70\n",
      "  DCA Parts: 9\n",
      "  Total Return (%): 213.68965690800428\n",
      "  Sharpe Ratio: 1.1240254625595563\n",
      "  Max Drawdown (%): -36.84931173178977\n",
      "  Win Rate (%): 57.14285714285714\n",
      "  Total Trades: 385\n",
      "  Optimization Date: 2025-02-02 00:52:11\n",
      "完成 ETCUSDT 的优化\n",
      "\n",
      "正在处理第 18/45 个交易对: ETHUSDT\n",
      "--------------------------------------------------\n",
      "验证 ETHUSDT 的数据完整性...\n",
      "ETHUSDT 数据完整性验证通过\n",
      "开始优化 ETHUSDT...\n",
      "开始加载 ETHUSDT 的数据...\n",
      "\n",
      "开始参数优化...\n",
      "['c:\\\\Users\\\\x7498\\\\anaconda3\\\\envs\\\\backtesting\\\\python310.zip', 'c:\\\\Users\\\\x7498\\\\anaconda3\\\\envs\\\\backtesting\\\\DLLs', 'c:\\\\Users\\\\x7498\\\\anaconda3\\\\envs\\\\backtesting\\\\lib', 'c:\\\\Users\\\\x7498\\\\anaconda3\\\\envs\\\\backtesting', '', 'c:\\\\Users\\\\x7498\\\\anaconda3\\\\envs\\\\backtesting\\\\lib\\\\site-packages', 'c:\\\\Users\\\\x7498\\\\anaconda3\\\\envs\\\\backtesting\\\\lib\\\\site-packages\\\\win32', 'c:\\\\Users\\\\x7498\\\\anaconda3\\\\envs\\\\backtesting\\\\lib\\\\site-packages\\\\win32\\\\lib', 'c:\\\\Users\\\\x7498\\\\anaconda3\\\\envs\\\\backtesting\\\\lib\\\\site-packages\\\\Pythonwin']\n"
     ]
    },
    {
     "data": {
      "application/vnd.jupyter.widget-view+json": {
       "model_id": "f47247f42ef84017a66006b46a7aa5cf",
       "version_major": 2,
       "version_minor": 0
      },
      "text/plain": [
       "Backtest.optimize:   0%|          | 0/200 [00:00<?, ?it/s]"
      ]
     },
     "metadata": {},
     "output_type": "display_data"
    },
    {
     "name": "stdout",
     "output_type": "stream",
     "text": [
      "优化结果:\n",
      "  Symbol: ETHUSDT\n",
      "  Initial Capital: 10000\n",
      "  Lowest Point Bars: 18\n",
      "  RSI Length: 10\n",
      "  Sell Barrier: 77\n",
      "  DCA Parts: 4\n",
      "  Total Return (%): 471.3429076800057\n",
      "  Sharpe Ratio: 0.1427361657807237\n",
      "  Max Drawdown (%): -89.8671453894799\n",
      "  Win Rate (%): 41.49377593360996\n",
      "  Total Trades: 241\n",
      "  Optimization Date: 2025-02-02 01:01:46\n",
      "完成 ETHUSDT 的优化\n",
      "\n",
      "正在处理第 19/45 个交易对: IOSTUSDT\n",
      "--------------------------------------------------\n",
      "验证 IOSTUSDT 的数据完整性...\n",
      "IOSTUSDT 数据完整性验证通过\n",
      "开始优化 IOSTUSDT...\n",
      "开始加载 IOSTUSDT 的数据...\n",
      "\n",
      "开始参数优化...\n",
      "['c:\\\\Users\\\\x7498\\\\anaconda3\\\\envs\\\\backtesting\\\\python310.zip', 'c:\\\\Users\\\\x7498\\\\anaconda3\\\\envs\\\\backtesting\\\\DLLs', 'c:\\\\Users\\\\x7498\\\\anaconda3\\\\envs\\\\backtesting\\\\lib', 'c:\\\\Users\\\\x7498\\\\anaconda3\\\\envs\\\\backtesting', '', 'c:\\\\Users\\\\x7498\\\\anaconda3\\\\envs\\\\backtesting\\\\lib\\\\site-packages', 'c:\\\\Users\\\\x7498\\\\anaconda3\\\\envs\\\\backtesting\\\\lib\\\\site-packages\\\\win32', 'c:\\\\Users\\\\x7498\\\\anaconda3\\\\envs\\\\backtesting\\\\lib\\\\site-packages\\\\win32\\\\lib', 'c:\\\\Users\\\\x7498\\\\anaconda3\\\\envs\\\\backtesting\\\\lib\\\\site-packages\\\\Pythonwin']\n"
     ]
    },
    {
     "data": {
      "application/vnd.jupyter.widget-view+json": {
       "model_id": "665983736d8e4de08845353ff1382407",
       "version_major": 2,
       "version_minor": 0
      },
      "text/plain": [
       "Backtest.optimize:   0%|          | 0/200 [00:00<?, ?it/s]"
      ]
     },
     "metadata": {},
     "output_type": "display_data"
    },
    {
     "name": "stdout",
     "output_type": "stream",
     "text": [
      "优化结果:\n",
      "  Symbol: IOSTUSDT\n",
      "  Initial Capital: 10000\n",
      "  Lowest Point Bars: 49\n",
      "  RSI Length: 3\n",
      "  Sell Barrier: 76\n",
      "  DCA Parts: 11\n",
      "  Total Return (%): 149.45801350065494\n",
      "  Sharpe Ratio: 1.2035585990390834\n",
      "  Max Drawdown (%): -41.79589919039116\n",
      "  Win Rate (%): 57.03517587939698\n",
      "  Total Trades: 398\n",
      "  Optimization Date: 2025-02-02 01:09:22\n",
      "完成 IOSTUSDT 的优化\n",
      "\n",
      "正在处理第 20/45 个交易对: IOTAUSDT\n",
      "--------------------------------------------------\n",
      "验证 IOTAUSDT 的数据完整性...\n",
      "IOTAUSDT 数据完整性验证通过\n",
      "开始优化 IOTAUSDT...\n",
      "开始加载 IOTAUSDT 的数据...\n",
      "\n",
      "开始参数优化...\n",
      "['c:\\\\Users\\\\x7498\\\\anaconda3\\\\envs\\\\backtesting\\\\python310.zip', 'c:\\\\Users\\\\x7498\\\\anaconda3\\\\envs\\\\backtesting\\\\DLLs', 'c:\\\\Users\\\\x7498\\\\anaconda3\\\\envs\\\\backtesting\\\\lib', 'c:\\\\Users\\\\x7498\\\\anaconda3\\\\envs\\\\backtesting', '', 'c:\\\\Users\\\\x7498\\\\anaconda3\\\\envs\\\\backtesting\\\\lib\\\\site-packages', 'c:\\\\Users\\\\x7498\\\\anaconda3\\\\envs\\\\backtesting\\\\lib\\\\site-packages\\\\win32', 'c:\\\\Users\\\\x7498\\\\anaconda3\\\\envs\\\\backtesting\\\\lib\\\\site-packages\\\\win32\\\\lib', 'c:\\\\Users\\\\x7498\\\\anaconda3\\\\envs\\\\backtesting\\\\lib\\\\site-packages\\\\Pythonwin']\n"
     ]
    },
    {
     "data": {
      "application/vnd.jupyter.widget-view+json": {
       "model_id": "0b02cbfe888a46999992293ddf2bbf0e",
       "version_major": 2,
       "version_minor": 0
      },
      "text/plain": [
       "Backtest.optimize:   0%|          | 0/200 [00:00<?, ?it/s]"
      ]
     },
     "metadata": {},
     "output_type": "display_data"
    },
    {
     "name": "stdout",
     "output_type": "stream",
     "text": [
      "优化结果:\n",
      "  Symbol: IOTAUSDT\n",
      "  Initial Capital: 10000\n",
      "  Lowest Point Bars: 5\n",
      "  RSI Length: 31\n",
      "  Sell Barrier: 75\n",
      "  DCA Parts: 4\n",
      "  Total Return (%): 553.999316181201\n",
      "  Sharpe Ratio: 0.0137590953673814\n",
      "  Max Drawdown (%): -82.93418227657328\n",
      "  Win Rate (%): 20.833333333333336\n",
      "  Total Trades: 24\n",
      "  Optimization Date: 2025-02-02 01:17:53\n",
      "完成 IOTAUSDT 的优化\n",
      "\n",
      "正在处理第 21/45 个交易对: KASUSDT\n",
      "--------------------------------------------------\n",
      "验证 KASUSDT 的数据完整性...\n",
      "KASUSDT 数据完整性验证通过\n",
      "开始优化 KASUSDT...\n",
      "开始加载 KASUSDT 的数据...\n",
      "\n",
      "开始参数优化...\n",
      "['c:\\\\Users\\\\x7498\\\\anaconda3\\\\envs\\\\backtesting\\\\python310.zip', 'c:\\\\Users\\\\x7498\\\\anaconda3\\\\envs\\\\backtesting\\\\DLLs', 'c:\\\\Users\\\\x7498\\\\anaconda3\\\\envs\\\\backtesting\\\\lib', 'c:\\\\Users\\\\x7498\\\\anaconda3\\\\envs\\\\backtesting', '', 'c:\\\\Users\\\\x7498\\\\anaconda3\\\\envs\\\\backtesting\\\\lib\\\\site-packages', 'c:\\\\Users\\\\x7498\\\\anaconda3\\\\envs\\\\backtesting\\\\lib\\\\site-packages\\\\win32', 'c:\\\\Users\\\\x7498\\\\anaconda3\\\\envs\\\\backtesting\\\\lib\\\\site-packages\\\\win32\\\\lib', 'c:\\\\Users\\\\x7498\\\\anaconda3\\\\envs\\\\backtesting\\\\lib\\\\site-packages\\\\Pythonwin']\n"
     ]
    },
    {
     "data": {
      "application/vnd.jupyter.widget-view+json": {
       "model_id": "ed7662cb37ce46eeaad642b87061de46",
       "version_major": 2,
       "version_minor": 0
      },
      "text/plain": [
       "Backtest.optimize:   0%|          | 0/200 [00:00<?, ?it/s]"
      ]
     },
     "metadata": {},
     "output_type": "display_data"
    },
    {
     "name": "stdout",
     "output_type": "stream",
     "text": [
      "优化结果:\n",
      "  Symbol: KASUSDT\n",
      "  Initial Capital: 10000\n",
      "  Lowest Point Bars: 42\n",
      "  RSI Length: 2\n",
      "  Sell Barrier: 79\n",
      "  DCA Parts: 6\n",
      "  Total Return (%): 4335.847996099846\n",
      "  Sharpe Ratio: 1.2054130968891823\n",
      "  Max Drawdown (%): -47.14349732733495\n",
      "  Win Rate (%): 63.67432150313152\n",
      "  Total Trades: 479\n",
      "  Optimization Date: 2025-02-02 01:24:14\n",
      "完成 KASUSDT 的优化\n",
      "\n",
      "正在处理第 22/45 个交易对: KAVAUSDT\n",
      "--------------------------------------------------\n",
      "验证 KAVAUSDT 的数据完整性...\n",
      "KAVAUSDT 数据完整性验证通过\n",
      "开始优化 KAVAUSDT...\n",
      "开始加载 KAVAUSDT 的数据...\n",
      "\n",
      "开始参数优化...\n",
      "['c:\\\\Users\\\\x7498\\\\anaconda3\\\\envs\\\\backtesting\\\\python310.zip', 'c:\\\\Users\\\\x7498\\\\anaconda3\\\\envs\\\\backtesting\\\\DLLs', 'c:\\\\Users\\\\x7498\\\\anaconda3\\\\envs\\\\backtesting\\\\lib', 'c:\\\\Users\\\\x7498\\\\anaconda3\\\\envs\\\\backtesting', '', 'c:\\\\Users\\\\x7498\\\\anaconda3\\\\envs\\\\backtesting\\\\lib\\\\site-packages', 'c:\\\\Users\\\\x7498\\\\anaconda3\\\\envs\\\\backtesting\\\\lib\\\\site-packages\\\\win32', 'c:\\\\Users\\\\x7498\\\\anaconda3\\\\envs\\\\backtesting\\\\lib\\\\site-packages\\\\win32\\\\lib', 'c:\\\\Users\\\\x7498\\\\anaconda3\\\\envs\\\\backtesting\\\\lib\\\\site-packages\\\\Pythonwin']\n"
     ]
    },
    {
     "data": {
      "application/vnd.jupyter.widget-view+json": {
       "model_id": "b8a2082d1fc04d7198a76761bb92f081",
       "version_major": 2,
       "version_minor": 0
      },
      "text/plain": [
       "Backtest.optimize:   0%|          | 0/200 [00:00<?, ?it/s]"
      ]
     },
     "metadata": {},
     "output_type": "display_data"
    },
    {
     "name": "stdout",
     "output_type": "stream",
     "text": [
      "优化结果:\n",
      "  Symbol: KAVAUSDT\n",
      "  Initial Capital: 10000\n",
      "  Lowest Point Bars: 46\n",
      "  RSI Length: 2\n",
      "  Sell Barrier: 85\n",
      "  DCA Parts: 7\n",
      "  Total Return (%): 115.87845864720394\n",
      "  Sharpe Ratio: 0.5521827723731731\n",
      "  Max Drawdown (%): -64.30520474734409\n",
      "  Win Rate (%): 57.71812080536913\n",
      "  Total Trades: 447\n",
      "  Optimization Date: 2025-02-02 01:29:27\n",
      "完成 KAVAUSDT 的优化\n",
      "\n",
      "正在处理第 23/45 个交易对: KNCUSDT\n",
      "--------------------------------------------------\n",
      "验证 KNCUSDT 的数据完整性...\n",
      "KNCUSDT 数据完整性验证通过\n",
      "开始优化 KNCUSDT...\n",
      "开始加载 KNCUSDT 的数据...\n",
      "\n",
      "开始参数优化...\n",
      "['c:\\\\Users\\\\x7498\\\\anaconda3\\\\envs\\\\backtesting\\\\python310.zip', 'c:\\\\Users\\\\x7498\\\\anaconda3\\\\envs\\\\backtesting\\\\DLLs', 'c:\\\\Users\\\\x7498\\\\anaconda3\\\\envs\\\\backtesting\\\\lib', 'c:\\\\Users\\\\x7498\\\\anaconda3\\\\envs\\\\backtesting', '', 'c:\\\\Users\\\\x7498\\\\anaconda3\\\\envs\\\\backtesting\\\\lib\\\\site-packages', 'c:\\\\Users\\\\x7498\\\\anaconda3\\\\envs\\\\backtesting\\\\lib\\\\site-packages\\\\win32', 'c:\\\\Users\\\\x7498\\\\anaconda3\\\\envs\\\\backtesting\\\\lib\\\\site-packages\\\\win32\\\\lib', 'c:\\\\Users\\\\x7498\\\\anaconda3\\\\envs\\\\backtesting\\\\lib\\\\site-packages\\\\Pythonwin']\n"
     ]
    },
    {
     "data": {
      "application/vnd.jupyter.widget-view+json": {
       "model_id": "6af0d53c527049c887618e095b8b2b5f",
       "version_major": 2,
       "version_minor": 0
      },
      "text/plain": [
       "Backtest.optimize:   0%|          | 0/200 [00:00<?, ?it/s]"
      ]
     },
     "metadata": {},
     "output_type": "display_data"
    },
    {
     "name": "stdout",
     "output_type": "stream",
     "text": [
      "优化结果:\n",
      "  Symbol: KNCUSDT\n",
      "  Initial Capital: 10000\n",
      "  Lowest Point Bars: 26\n",
      "  RSI Length: 8\n",
      "  Sell Barrier: 80\n",
      "  DCA Parts: 4\n",
      "  Total Return (%): 2128.557171333618\n",
      "  Sharpe Ratio: 0.0643449812651228\n",
      "  Max Drawdown (%): -77.60885423122501\n",
      "  Win Rate (%): 36.40350877192983\n",
      "  Total Trades: 228\n",
      "  Optimization Date: 2025-02-02 01:38:28\n",
      "完成 KNCUSDT 的优化\n",
      "\n",
      "正在处理第 24/45 个交易对: LINKUSDT\n",
      "--------------------------------------------------\n",
      "验证 LINKUSDT 的数据完整性...\n",
      "LINKUSDT 数据完整性验证通过\n",
      "开始优化 LINKUSDT...\n",
      "开始加载 LINKUSDT 的数据...\n",
      "\n",
      "开始参数优化...\n",
      "['c:\\\\Users\\\\x7498\\\\anaconda3\\\\envs\\\\backtesting\\\\python310.zip', 'c:\\\\Users\\\\x7498\\\\anaconda3\\\\envs\\\\backtesting\\\\DLLs', 'c:\\\\Users\\\\x7498\\\\anaconda3\\\\envs\\\\backtesting\\\\lib', 'c:\\\\Users\\\\x7498\\\\anaconda3\\\\envs\\\\backtesting', '', 'c:\\\\Users\\\\x7498\\\\anaconda3\\\\envs\\\\backtesting\\\\lib\\\\site-packages', 'c:\\\\Users\\\\x7498\\\\anaconda3\\\\envs\\\\backtesting\\\\lib\\\\site-packages\\\\win32', 'c:\\\\Users\\\\x7498\\\\anaconda3\\\\envs\\\\backtesting\\\\lib\\\\site-packages\\\\win32\\\\lib', 'c:\\\\Users\\\\x7498\\\\anaconda3\\\\envs\\\\backtesting\\\\lib\\\\site-packages\\\\Pythonwin']\n"
     ]
    },
    {
     "data": {
      "application/vnd.jupyter.widget-view+json": {
       "model_id": "f86587574ad648008b91656d90b5038f",
       "version_major": 2,
       "version_minor": 0
      },
      "text/plain": [
       "Backtest.optimize:   0%|          | 0/200 [00:00<?, ?it/s]"
      ]
     },
     "metadata": {},
     "output_type": "display_data"
    },
    {
     "name": "stdout",
     "output_type": "stream",
     "text": [
      "优化结果:\n",
      "  Symbol: LINKUSDT\n",
      "  Initial Capital: 10000\n",
      "  Lowest Point Bars: 47\n",
      "  RSI Length: 3\n",
      "  Sell Barrier: 81\n",
      "  DCA Parts: 10\n",
      "  Total Return (%): 307.23226032000434\n",
      "  Sharpe Ratio: 1.2458661684692998\n",
      "  Max Drawdown (%): -43.57365086174221\n",
      "  Win Rate (%): 59.5360824742268\n",
      "  Total Trades: 388\n",
      "  Optimization Date: 2025-02-02 01:45:53\n",
      "完成 LINKUSDT 的优化\n",
      "\n",
      "正在处理第 25/45 个交易对: LTCUSDT\n",
      "--------------------------------------------------\n",
      "验证 LTCUSDT 的数据完整性...\n",
      "LTCUSDT 数据完整性验证通过\n",
      "开始优化 LTCUSDT...\n",
      "开始加载 LTCUSDT 的数据...\n",
      "\n",
      "开始参数优化...\n",
      "['c:\\\\Users\\\\x7498\\\\anaconda3\\\\envs\\\\backtesting\\\\python310.zip', 'c:\\\\Users\\\\x7498\\\\anaconda3\\\\envs\\\\backtesting\\\\DLLs', 'c:\\\\Users\\\\x7498\\\\anaconda3\\\\envs\\\\backtesting\\\\lib', 'c:\\\\Users\\\\x7498\\\\anaconda3\\\\envs\\\\backtesting', '', 'c:\\\\Users\\\\x7498\\\\anaconda3\\\\envs\\\\backtesting\\\\lib\\\\site-packages', 'c:\\\\Users\\\\x7498\\\\anaconda3\\\\envs\\\\backtesting\\\\lib\\\\site-packages\\\\win32', 'c:\\\\Users\\\\x7498\\\\anaconda3\\\\envs\\\\backtesting\\\\lib\\\\site-packages\\\\win32\\\\lib', 'c:\\\\Users\\\\x7498\\\\anaconda3\\\\envs\\\\backtesting\\\\lib\\\\site-packages\\\\Pythonwin']\n"
     ]
    },
    {
     "data": {
      "application/vnd.jupyter.widget-view+json": {
       "model_id": "fca27e009ae34bfd9408ce13e5274d46",
       "version_major": 2,
       "version_minor": 0
      },
      "text/plain": [
       "Backtest.optimize:   0%|          | 0/200 [00:00<?, ?it/s]"
      ]
     },
     "metadata": {},
     "output_type": "display_data"
    },
    {
     "name": "stdout",
     "output_type": "stream",
     "text": [
      "优化结果:\n",
      "  Symbol: LTCUSDT\n",
      "  Initial Capital: 10000\n",
      "  Lowest Point Bars: 37\n",
      "  RSI Length: 31\n",
      "  Sell Barrier: 66\n",
      "  DCA Parts: 11\n",
      "  Total Return (%): 268.4990354000021\n",
      "  Sharpe Ratio: 0.19370896972074492\n",
      "  Max Drawdown (%): -89.68347011069766\n",
      "  Win Rate (%): 30.64516129032258\n",
      "  Total Trades: 124\n",
      "  Optimization Date: 2025-02-02 01:55:41\n",
      "完成 LTCUSDT 的优化\n",
      "\n",
      "正在处理第 26/45 个交易对: MKRUSDT\n",
      "--------------------------------------------------\n",
      "验证 MKRUSDT 的数据完整性...\n",
      "MKRUSDT 数据完整性验证通过\n",
      "开始优化 MKRUSDT...\n",
      "开始加载 MKRUSDT 的数据...\n",
      "\n",
      "开始参数优化...\n",
      "['c:\\\\Users\\\\x7498\\\\anaconda3\\\\envs\\\\backtesting\\\\python310.zip', 'c:\\\\Users\\\\x7498\\\\anaconda3\\\\envs\\\\backtesting\\\\DLLs', 'c:\\\\Users\\\\x7498\\\\anaconda3\\\\envs\\\\backtesting\\\\lib', 'c:\\\\Users\\\\x7498\\\\anaconda3\\\\envs\\\\backtesting', '', 'c:\\\\Users\\\\x7498\\\\anaconda3\\\\envs\\\\backtesting\\\\lib\\\\site-packages', 'c:\\\\Users\\\\x7498\\\\anaconda3\\\\envs\\\\backtesting\\\\lib\\\\site-packages\\\\win32', 'c:\\\\Users\\\\x7498\\\\anaconda3\\\\envs\\\\backtesting\\\\lib\\\\site-packages\\\\win32\\\\lib', 'c:\\\\Users\\\\x7498\\\\anaconda3\\\\envs\\\\backtesting\\\\lib\\\\site-packages\\\\Pythonwin']\n"
     ]
    },
    {
     "data": {
      "application/vnd.jupyter.widget-view+json": {
       "model_id": "4318a435ed344885a33000fd3d6549cd",
       "version_major": 2,
       "version_minor": 0
      },
      "text/plain": [
       "Backtest.optimize:   0%|          | 0/200 [00:00<?, ?it/s]"
      ]
     },
     "metadata": {},
     "output_type": "display_data"
    },
    {
     "name": "stdout",
     "output_type": "stream",
     "text": [
      "优化结果:\n",
      "  Symbol: MKRUSDT\n",
      "  Initial Capital: 10000\n",
      "  Lowest Point Bars: 49\n",
      "  RSI Length: 45\n",
      "  Sell Barrier: 70\n",
      "  DCA Parts: 4\n",
      "  Total Return (%): 627.3972252000019\n",
      "  Sharpe Ratio: 0.18040471390044627\n",
      "  Max Drawdown (%): -78.09567379689521\n",
      "  Win Rate (%): 19.047619047619047\n",
      "  Total Trades: 21\n",
      "  Optimization Date: 2025-02-02 02:03:04\n",
      "完成 MKRUSDT 的优化\n",
      "\n",
      "正在处理第 27/45 个交易对: NEOUSDT\n",
      "--------------------------------------------------\n",
      "验证 NEOUSDT 的数据完整性...\n",
      "NEOUSDT 数据完整性验证通过\n",
      "开始优化 NEOUSDT...\n",
      "开始加载 NEOUSDT 的数据...\n",
      "\n",
      "开始参数优化...\n",
      "['c:\\\\Users\\\\x7498\\\\anaconda3\\\\envs\\\\backtesting\\\\python310.zip', 'c:\\\\Users\\\\x7498\\\\anaconda3\\\\envs\\\\backtesting\\\\DLLs', 'c:\\\\Users\\\\x7498\\\\anaconda3\\\\envs\\\\backtesting\\\\lib', 'c:\\\\Users\\\\x7498\\\\anaconda3\\\\envs\\\\backtesting', '', 'c:\\\\Users\\\\x7498\\\\anaconda3\\\\envs\\\\backtesting\\\\lib\\\\site-packages', 'c:\\\\Users\\\\x7498\\\\anaconda3\\\\envs\\\\backtesting\\\\lib\\\\site-packages\\\\win32', 'c:\\\\Users\\\\x7498\\\\anaconda3\\\\envs\\\\backtesting\\\\lib\\\\site-packages\\\\win32\\\\lib', 'c:\\\\Users\\\\x7498\\\\anaconda3\\\\envs\\\\backtesting\\\\lib\\\\site-packages\\\\Pythonwin']\n"
     ]
    },
    {
     "data": {
      "application/vnd.jupyter.widget-view+json": {
       "model_id": "6bd41f60eccf4527a06144c5b0d80f7b",
       "version_major": 2,
       "version_minor": 0
      },
      "text/plain": [
       "Backtest.optimize:   0%|          | 0/200 [00:00<?, ?it/s]"
      ]
     },
     "metadata": {},
     "output_type": "display_data"
    },
    {
     "name": "stdout",
     "output_type": "stream",
     "text": [
      "优化结果:\n",
      "  Symbol: NEOUSDT\n",
      "  Initial Capital: 10000\n",
      "  Lowest Point Bars: 28\n",
      "  RSI Length: 4\n",
      "  Sell Barrier: 69\n",
      "  DCA Parts: 4\n",
      "  Total Return (%): 358.2152864720102\n",
      "  Sharpe Ratio: 0.20063215560599398\n",
      "  Max Drawdown (%): -79.57834388821725\n",
      "  Win Rate (%): 59.59409594095941\n",
      "  Total Trades: 542\n",
      "  Optimization Date: 2025-02-02 02:10:58\n",
      "完成 NEOUSDT 的优化\n",
      "\n",
      "正在处理第 28/45 个交易对: OMGUSDT\n",
      "--------------------------------------------------\n",
      "验证 OMGUSDT 的数据完整性...\n",
      "OMGUSDT 数据完整性验证通过\n",
      "开始优化 OMGUSDT...\n",
      "开始加载 OMGUSDT 的数据...\n",
      "\n",
      "开始参数优化...\n",
      "['c:\\\\Users\\\\x7498\\\\anaconda3\\\\envs\\\\backtesting\\\\python310.zip', 'c:\\\\Users\\\\x7498\\\\anaconda3\\\\envs\\\\backtesting\\\\DLLs', 'c:\\\\Users\\\\x7498\\\\anaconda3\\\\envs\\\\backtesting\\\\lib', 'c:\\\\Users\\\\x7498\\\\anaconda3\\\\envs\\\\backtesting', '', 'c:\\\\Users\\\\x7498\\\\anaconda3\\\\envs\\\\backtesting\\\\lib\\\\site-packages', 'c:\\\\Users\\\\x7498\\\\anaconda3\\\\envs\\\\backtesting\\\\lib\\\\site-packages\\\\win32', 'c:\\\\Users\\\\x7498\\\\anaconda3\\\\envs\\\\backtesting\\\\lib\\\\site-packages\\\\win32\\\\lib', 'c:\\\\Users\\\\x7498\\\\anaconda3\\\\envs\\\\backtesting\\\\lib\\\\site-packages\\\\Pythonwin']\n"
     ]
    },
    {
     "data": {
      "application/vnd.jupyter.widget-view+json": {
       "model_id": "bec931ff6bf24379b2ae8856c4a6e736",
       "version_major": 2,
       "version_minor": 0
      },
      "text/plain": [
       "Backtest.optimize:   0%|          | 0/200 [00:00<?, ?it/s]"
      ]
     },
     "metadata": {},
     "output_type": "display_data"
    },
    {
     "name": "stdout",
     "output_type": "stream",
     "text": [
      "优化结果:\n",
      "  Symbol: OMGUSDT\n",
      "  Initial Capital: 10000\n",
      "  Lowest Point Bars: 31\n",
      "  RSI Length: 5\n",
      "  Sell Barrier: 68\n",
      "  DCA Parts: 4\n",
      "  Total Return (%): 1072.737697762813\n",
      "  Sharpe Ratio: 0.09126763975583055\n",
      "  Max Drawdown (%): -89.26071827471947\n",
      "  Win Rate (%): 57.17092337917485\n",
      "  Total Trades: 509\n",
      "  Optimization Date: 2025-02-02 02:20:00\n",
      "完成 OMGUSDT 的优化\n",
      "\n",
      "正在处理第 29/45 个交易对: ONTUSDT\n",
      "--------------------------------------------------\n",
      "验证 ONTUSDT 的数据完整性...\n",
      "ONTUSDT 数据完整性验证通过\n",
      "开始优化 ONTUSDT...\n",
      "开始加载 ONTUSDT 的数据...\n",
      "\n",
      "开始参数优化...\n",
      "['c:\\\\Users\\\\x7498\\\\anaconda3\\\\envs\\\\backtesting\\\\python310.zip', 'c:\\\\Users\\\\x7498\\\\anaconda3\\\\envs\\\\backtesting\\\\DLLs', 'c:\\\\Users\\\\x7498\\\\anaconda3\\\\envs\\\\backtesting\\\\lib', 'c:\\\\Users\\\\x7498\\\\anaconda3\\\\envs\\\\backtesting', '', 'c:\\\\Users\\\\x7498\\\\anaconda3\\\\envs\\\\backtesting\\\\lib\\\\site-packages', 'c:\\\\Users\\\\x7498\\\\anaconda3\\\\envs\\\\backtesting\\\\lib\\\\site-packages\\\\win32', 'c:\\\\Users\\\\x7498\\\\anaconda3\\\\envs\\\\backtesting\\\\lib\\\\site-packages\\\\win32\\\\lib', 'c:\\\\Users\\\\x7498\\\\anaconda3\\\\envs\\\\backtesting\\\\lib\\\\site-packages\\\\Pythonwin']\n"
     ]
    },
    {
     "data": {
      "application/vnd.jupyter.widget-view+json": {
       "model_id": "43ba10a440264356bb49e65b64b2a65b",
       "version_major": 2,
       "version_minor": 0
      },
      "text/plain": [
       "Backtest.optimize:   0%|          | 0/200 [00:00<?, ?it/s]"
      ]
     },
     "metadata": {},
     "output_type": "display_data"
    },
    {
     "name": "stdout",
     "output_type": "stream",
     "text": [
      "优化结果:\n",
      "  Symbol: ONTUSDT\n",
      "  Initial Capital: 10000\n",
      "  Lowest Point Bars: 28\n",
      "  RSI Length: 4\n",
      "  Sell Barrier: 69\n",
      "  DCA Parts: 4\n",
      "  Total Return (%): 1475.0829654832335\n",
      "  Sharpe Ratio: 0.23297968411627692\n",
      "  Max Drawdown (%): -71.22564667297556\n",
      "  Win Rate (%): 58.27338129496403\n",
      "  Total Trades: 556\n",
      "  Optimization Date: 2025-02-02 02:28:58\n",
      "完成 ONTUSDT 的优化\n",
      "\n",
      "正在处理第 30/45 个交易对: QTUMUSDT\n",
      "--------------------------------------------------\n",
      "验证 QTUMUSDT 的数据完整性...\n",
      "QTUMUSDT 数据完整性验证通过\n",
      "开始优化 QTUMUSDT...\n",
      "开始加载 QTUMUSDT 的数据...\n",
      "\n",
      "开始参数优化...\n",
      "['c:\\\\Users\\\\x7498\\\\anaconda3\\\\envs\\\\backtesting\\\\python310.zip', 'c:\\\\Users\\\\x7498\\\\anaconda3\\\\envs\\\\backtesting\\\\DLLs', 'c:\\\\Users\\\\x7498\\\\anaconda3\\\\envs\\\\backtesting\\\\lib', 'c:\\\\Users\\\\x7498\\\\anaconda3\\\\envs\\\\backtesting', '', 'c:\\\\Users\\\\x7498\\\\anaconda3\\\\envs\\\\backtesting\\\\lib\\\\site-packages', 'c:\\\\Users\\\\x7498\\\\anaconda3\\\\envs\\\\backtesting\\\\lib\\\\site-packages\\\\win32', 'c:\\\\Users\\\\x7498\\\\anaconda3\\\\envs\\\\backtesting\\\\lib\\\\site-packages\\\\win32\\\\lib', 'c:\\\\Users\\\\x7498\\\\anaconda3\\\\envs\\\\backtesting\\\\lib\\\\site-packages\\\\Pythonwin']\n"
     ]
    },
    {
     "data": {
      "application/vnd.jupyter.widget-view+json": {
       "model_id": "54cb517ba86c4722944ec2f41fedf976",
       "version_major": 2,
       "version_minor": 0
      },
      "text/plain": [
       "Backtest.optimize:   0%|          | 0/200 [00:00<?, ?it/s]"
      ]
     },
     "metadata": {},
     "output_type": "display_data"
    },
    {
     "name": "stdout",
     "output_type": "stream",
     "text": [
      "优化结果:\n",
      "  Symbol: QTUMUSDT\n",
      "  Initial Capital: 10000\n",
      "  Lowest Point Bars: 45\n",
      "  RSI Length: 2\n",
      "  Sell Barrier: 73\n",
      "  DCA Parts: 5\n",
      "  Total Return (%): 354.6527800200129\n",
      "  Sharpe Ratio: 0.9259851064895398\n",
      "  Max Drawdown (%): -51.9436567496786\n",
      "  Win Rate (%): 63.35282651072125\n",
      "  Total Trades: 513\n",
      "  Optimization Date: 2025-02-02 02:37:45\n",
      "完成 QTUMUSDT 的优化\n",
      "\n",
      "正在处理第 31/45 个交易对: RLCUSDT\n",
      "--------------------------------------------------\n",
      "验证 RLCUSDT 的数据完整性...\n",
      "RLCUSDT 数据完整性验证通过\n",
      "开始优化 RLCUSDT...\n",
      "开始加载 RLCUSDT 的数据...\n",
      "\n",
      "开始参数优化...\n",
      "['c:\\\\Users\\\\x7498\\\\anaconda3\\\\envs\\\\backtesting\\\\python310.zip', 'c:\\\\Users\\\\x7498\\\\anaconda3\\\\envs\\\\backtesting\\\\DLLs', 'c:\\\\Users\\\\x7498\\\\anaconda3\\\\envs\\\\backtesting\\\\lib', 'c:\\\\Users\\\\x7498\\\\anaconda3\\\\envs\\\\backtesting', '', 'c:\\\\Users\\\\x7498\\\\anaconda3\\\\envs\\\\backtesting\\\\lib\\\\site-packages', 'c:\\\\Users\\\\x7498\\\\anaconda3\\\\envs\\\\backtesting\\\\lib\\\\site-packages\\\\win32', 'c:\\\\Users\\\\x7498\\\\anaconda3\\\\envs\\\\backtesting\\\\lib\\\\site-packages\\\\win32\\\\lib', 'c:\\\\Users\\\\x7498\\\\anaconda3\\\\envs\\\\backtesting\\\\lib\\\\site-packages\\\\Pythonwin']\n"
     ]
    },
    {
     "data": {
      "application/vnd.jupyter.widget-view+json": {
       "model_id": "68db4c55e1564b389b806c1a6a6e9a9e",
       "version_major": 2,
       "version_minor": 0
      },
      "text/plain": [
       "Backtest.optimize:   0%|          | 0/200 [00:00<?, ?it/s]"
      ]
     },
     "metadata": {},
     "output_type": "display_data"
    },
    {
     "name": "stdout",
     "output_type": "stream",
     "text": [
      "优化结果:\n",
      "  Symbol: RLCUSDT\n",
      "  Initial Capital: 10000\n",
      "  Lowest Point Bars: 50\n",
      "  RSI Length: 5\n",
      "  Sell Barrier: 70\n",
      "  DCA Parts: 10\n",
      "  Total Return (%): 412.7375214792058\n",
      "  Sharpe Ratio: 0.9329610360008417\n",
      "  Max Drawdown (%): -44.021944032207074\n",
      "  Win Rate (%): 53.88739946380697\n",
      "  Total Trades: 373\n",
      "  Optimization Date: 2025-02-02 02:46:00\n",
      "完成 RLCUSDT 的优化\n",
      "\n",
      "正在处理第 32/45 个交易对: SNXUSDT\n",
      "--------------------------------------------------\n",
      "验证 SNXUSDT 的数据完整性...\n",
      "SNXUSDT 数据完整性验证通过\n",
      "开始优化 SNXUSDT...\n",
      "开始加载 SNXUSDT 的数据...\n",
      "\n",
      "开始参数优化...\n",
      "['c:\\\\Users\\\\x7498\\\\anaconda3\\\\envs\\\\backtesting\\\\python310.zip', 'c:\\\\Users\\\\x7498\\\\anaconda3\\\\envs\\\\backtesting\\\\DLLs', 'c:\\\\Users\\\\x7498\\\\anaconda3\\\\envs\\\\backtesting\\\\lib', 'c:\\\\Users\\\\x7498\\\\anaconda3\\\\envs\\\\backtesting', '', 'c:\\\\Users\\\\x7498\\\\anaconda3\\\\envs\\\\backtesting\\\\lib\\\\site-packages', 'c:\\\\Users\\\\x7498\\\\anaconda3\\\\envs\\\\backtesting\\\\lib\\\\site-packages\\\\win32', 'c:\\\\Users\\\\x7498\\\\anaconda3\\\\envs\\\\backtesting\\\\lib\\\\site-packages\\\\win32\\\\lib', 'c:\\\\Users\\\\x7498\\\\anaconda3\\\\envs\\\\backtesting\\\\lib\\\\site-packages\\\\Pythonwin']\n"
     ]
    },
    {
     "data": {
      "application/vnd.jupyter.widget-view+json": {
       "model_id": "2ebebe791dc04d47a154a917e3dd6dfe",
       "version_major": 2,
       "version_minor": 0
      },
      "text/plain": [
       "Backtest.optimize:   0%|          | 0/200 [00:00<?, ?it/s]"
      ]
     },
     "metadata": {},
     "output_type": "display_data"
    },
    {
     "name": "stdout",
     "output_type": "stream",
     "text": [
      "优化结果:\n",
      "  Symbol: SNXUSDT\n",
      "  Initial Capital: 10000\n",
      "  Lowest Point Bars: 50\n",
      "  RSI Length: 2\n",
      "  Sell Barrier: 85\n",
      "  DCA Parts: 11\n",
      "  Total Return (%): 44.55885845600194\n",
      "  Sharpe Ratio: 0.5246142829018234\n",
      "  Max Drawdown (%): -42.357156756999856\n",
      "  Win Rate (%): 57.494407158836694\n",
      "  Total Trades: 447\n",
      "  Optimization Date: 2025-02-02 02:50:09\n",
      "完成 SNXUSDT 的优化\n",
      "\n",
      "正在处理第 33/45 个交易对: SXPUSDT\n",
      "--------------------------------------------------\n",
      "验证 SXPUSDT 的数据完整性...\n",
      "SXPUSDT 数据完整性验证通过\n",
      "开始优化 SXPUSDT...\n",
      "开始加载 SXPUSDT 的数据...\n",
      "\n",
      "开始参数优化...\n",
      "['c:\\\\Users\\\\x7498\\\\anaconda3\\\\envs\\\\backtesting\\\\python310.zip', 'c:\\\\Users\\\\x7498\\\\anaconda3\\\\envs\\\\backtesting\\\\DLLs', 'c:\\\\Users\\\\x7498\\\\anaconda3\\\\envs\\\\backtesting\\\\lib', 'c:\\\\Users\\\\x7498\\\\anaconda3\\\\envs\\\\backtesting', '', 'c:\\\\Users\\\\x7498\\\\anaconda3\\\\envs\\\\backtesting\\\\lib\\\\site-packages', 'c:\\\\Users\\\\x7498\\\\anaconda3\\\\envs\\\\backtesting\\\\lib\\\\site-packages\\\\win32', 'c:\\\\Users\\\\x7498\\\\anaconda3\\\\envs\\\\backtesting\\\\lib\\\\site-packages\\\\win32\\\\lib', 'c:\\\\Users\\\\x7498\\\\anaconda3\\\\envs\\\\backtesting\\\\lib\\\\site-packages\\\\Pythonwin']\n"
     ]
    },
    {
     "data": {
      "application/vnd.jupyter.widget-view+json": {
       "model_id": "35fc4af431e047759bbae4f966ee865e",
       "version_major": 2,
       "version_minor": 0
      },
      "text/plain": [
       "Backtest.optimize:   0%|          | 0/200 [00:00<?, ?it/s]"
      ]
     },
     "metadata": {},
     "output_type": "display_data"
    },
    {
     "name": "stdout",
     "output_type": "stream",
     "text": [
      "优化结果:\n",
      "  Symbol: SXPUSDT\n",
      "  Initial Capital: 10000\n",
      "  Lowest Point Bars: 39\n",
      "  RSI Length: 3\n",
      "  Sell Barrier: 80\n",
      "  DCA Parts: 7\n",
      "  Total Return (%): 494.7247796852095\n",
      "  Sharpe Ratio: 0.8085918732583622\n",
      "  Max Drawdown (%): -48.80419477955288\n",
      "  Win Rate (%): 55.80865603644647\n",
      "  Total Trades: 439\n",
      "  Optimization Date: 2025-02-02 02:59:38\n",
      "完成 SXPUSDT 的优化\n",
      "\n",
      "正在处理第 34/45 个交易对: THETAUSDT\n",
      "--------------------------------------------------\n",
      "验证 THETAUSDT 的数据完整性...\n",
      "THETAUSDT 数据完整性验证通过\n",
      "开始优化 THETAUSDT...\n",
      "开始加载 THETAUSDT 的数据...\n",
      "\n",
      "开始参数优化...\n",
      "['c:\\\\Users\\\\x7498\\\\anaconda3\\\\envs\\\\backtesting\\\\python310.zip', 'c:\\\\Users\\\\x7498\\\\anaconda3\\\\envs\\\\backtesting\\\\DLLs', 'c:\\\\Users\\\\x7498\\\\anaconda3\\\\envs\\\\backtesting\\\\lib', 'c:\\\\Users\\\\x7498\\\\anaconda3\\\\envs\\\\backtesting', '', 'c:\\\\Users\\\\x7498\\\\anaconda3\\\\envs\\\\backtesting\\\\lib\\\\site-packages', 'c:\\\\Users\\\\x7498\\\\anaconda3\\\\envs\\\\backtesting\\\\lib\\\\site-packages\\\\win32', 'c:\\\\Users\\\\x7498\\\\anaconda3\\\\envs\\\\backtesting\\\\lib\\\\site-packages\\\\win32\\\\lib', 'c:\\\\Users\\\\x7498\\\\anaconda3\\\\envs\\\\backtesting\\\\lib\\\\site-packages\\\\Pythonwin']\n"
     ]
    },
    {
     "data": {
      "application/vnd.jupyter.widget-view+json": {
       "model_id": "c2b3792de249481ca65584fb014062be",
       "version_major": 2,
       "version_minor": 0
      },
      "text/plain": [
       "Backtest.optimize:   0%|          | 0/200 [00:00<?, ?it/s]"
      ]
     },
     "metadata": {},
     "output_type": "display_data"
    },
    {
     "name": "stdout",
     "output_type": "stream",
     "text": [
      "优化结果:\n",
      "  Symbol: THETAUSDT\n",
      "  Initial Capital: 10000\n",
      "  Lowest Point Bars: 50\n",
      "  RSI Length: 28\n",
      "  Sell Barrier: 85\n",
      "  DCA Parts: 11\n",
      "  Total Return (%): 282.4029228292001\n",
      "  Sharpe Ratio: 0.08042532628934317\n",
      "  Max Drawdown (%): -93.89135651113712\n",
      "  Win Rate (%): 16.666666666666664\n",
      "  Total Trades: 6\n",
      "  Optimization Date: 2025-02-02 03:05:44\n",
      "完成 THETAUSDT 的优化\n",
      "\n",
      "正在处理第 35/45 个交易对: TRXUSDT\n",
      "--------------------------------------------------\n",
      "验证 TRXUSDT 的数据完整性...\n",
      "TRXUSDT 数据完整性验证通过\n",
      "开始优化 TRXUSDT...\n",
      "开始加载 TRXUSDT 的数据...\n",
      "\n",
      "开始参数优化...\n",
      "['c:\\\\Users\\\\x7498\\\\anaconda3\\\\envs\\\\backtesting\\\\python310.zip', 'c:\\\\Users\\\\x7498\\\\anaconda3\\\\envs\\\\backtesting\\\\DLLs', 'c:\\\\Users\\\\x7498\\\\anaconda3\\\\envs\\\\backtesting\\\\lib', 'c:\\\\Users\\\\x7498\\\\anaconda3\\\\envs\\\\backtesting', '', 'c:\\\\Users\\\\x7498\\\\anaconda3\\\\envs\\\\backtesting\\\\lib\\\\site-packages', 'c:\\\\Users\\\\x7498\\\\anaconda3\\\\envs\\\\backtesting\\\\lib\\\\site-packages\\\\win32', 'c:\\\\Users\\\\x7498\\\\anaconda3\\\\envs\\\\backtesting\\\\lib\\\\site-packages\\\\win32\\\\lib', 'c:\\\\Users\\\\x7498\\\\anaconda3\\\\envs\\\\backtesting\\\\lib\\\\site-packages\\\\Pythonwin']\n"
     ]
    },
    {
     "data": {
      "application/vnd.jupyter.widget-view+json": {
       "model_id": "63f4c5de17454c5b86128f3bab4512ef",
       "version_major": 2,
       "version_minor": 0
      },
      "text/plain": [
       "Backtest.optimize:   0%|          | 0/200 [00:00<?, ?it/s]"
      ]
     },
     "metadata": {},
     "output_type": "display_data"
    },
    {
     "name": "stdout",
     "output_type": "stream",
     "text": [
      "优化结果:\n",
      "  Symbol: TRXUSDT\n",
      "  Initial Capital: 10000\n",
      "  Lowest Point Bars: 5\n",
      "  RSI Length: 47\n",
      "  Sell Barrier: 81\n",
      "  DCA Parts: 4\n",
      "  Total Return (%): 1286.896645559402\n",
      "  Sharpe Ratio: 0.18450955393719023\n",
      "  Max Drawdown (%): -65.16727248679337\n",
      "  Win Rate (%): 22.22222222222222\n",
      "  Total Trades: 9\n",
      "  Optimization Date: 2025-02-02 03:09:32\n",
      "完成 TRXUSDT 的优化\n",
      "\n",
      "正在处理第 36/45 个交易对: VETUSDT\n",
      "--------------------------------------------------\n",
      "验证 VETUSDT 的数据完整性...\n",
      "VETUSDT 数据完整性验证通过\n",
      "开始优化 VETUSDT...\n",
      "开始加载 VETUSDT 的数据...\n",
      "\n",
      "开始参数优化...\n",
      "['c:\\\\Users\\\\x7498\\\\anaconda3\\\\envs\\\\backtesting\\\\python310.zip', 'c:\\\\Users\\\\x7498\\\\anaconda3\\\\envs\\\\backtesting\\\\DLLs', 'c:\\\\Users\\\\x7498\\\\anaconda3\\\\envs\\\\backtesting\\\\lib', 'c:\\\\Users\\\\x7498\\\\anaconda3\\\\envs\\\\backtesting', '', 'c:\\\\Users\\\\x7498\\\\anaconda3\\\\envs\\\\backtesting\\\\lib\\\\site-packages', 'c:\\\\Users\\\\x7498\\\\anaconda3\\\\envs\\\\backtesting\\\\lib\\\\site-packages\\\\win32', 'c:\\\\Users\\\\x7498\\\\anaconda3\\\\envs\\\\backtesting\\\\lib\\\\site-packages\\\\win32\\\\lib', 'c:\\\\Users\\\\x7498\\\\anaconda3\\\\envs\\\\backtesting\\\\lib\\\\site-packages\\\\Pythonwin']\n"
     ]
    },
    {
     "data": {
      "application/vnd.jupyter.widget-view+json": {
       "model_id": "edd89e6aa04a47bbb4c5425ed8931e32",
       "version_major": 2,
       "version_minor": 0
      },
      "text/plain": [
       "Backtest.optimize:   0%|          | 0/200 [00:00<?, ?it/s]"
      ]
     },
     "metadata": {},
     "output_type": "display_data"
    },
    {
     "name": "stdout",
     "output_type": "stream",
     "text": [
      "优化结果:\n",
      "  Symbol: VETUSDT\n",
      "  Initial Capital: 10000\n",
      "  Lowest Point Bars: 25\n",
      "  RSI Length: 4\n",
      "  Sell Barrier: 77\n",
      "  DCA Parts: 11\n",
      "  Total Return (%): 1187.281014658619\n",
      "  Sharpe Ratio: 1.0079410603067425\n",
      "  Max Drawdown (%): -65.78274154480728\n",
      "  Win Rate (%): 52.55198487712666\n",
      "  Total Trades: 529\n",
      "  Optimization Date: 2025-02-02 03:19:23\n",
      "完成 VETUSDT 的优化\n",
      "\n",
      "正在处理第 37/45 个交易对: WAVESUSDT\n",
      "--------------------------------------------------\n",
      "验证 WAVESUSDT 的数据完整性...\n",
      "WAVESUSDT 数据完整性验证通过\n",
      "开始优化 WAVESUSDT...\n",
      "开始加载 WAVESUSDT 的数据...\n",
      "\n",
      "开始参数优化...\n",
      "['c:\\\\Users\\\\x7498\\\\anaconda3\\\\envs\\\\backtesting\\\\python310.zip', 'c:\\\\Users\\\\x7498\\\\anaconda3\\\\envs\\\\backtesting\\\\DLLs', 'c:\\\\Users\\\\x7498\\\\anaconda3\\\\envs\\\\backtesting\\\\lib', 'c:\\\\Users\\\\x7498\\\\anaconda3\\\\envs\\\\backtesting', '', 'c:\\\\Users\\\\x7498\\\\anaconda3\\\\envs\\\\backtesting\\\\lib\\\\site-packages', 'c:\\\\Users\\\\x7498\\\\anaconda3\\\\envs\\\\backtesting\\\\lib\\\\site-packages\\\\win32', 'c:\\\\Users\\\\x7498\\\\anaconda3\\\\envs\\\\backtesting\\\\lib\\\\site-packages\\\\win32\\\\lib', 'c:\\\\Users\\\\x7498\\\\anaconda3\\\\envs\\\\backtesting\\\\lib\\\\site-packages\\\\Pythonwin']\n"
     ]
    },
    {
     "data": {
      "application/vnd.jupyter.widget-view+json": {
       "model_id": "67340462860e45789a0bb797e4634958",
       "version_major": 2,
       "version_minor": 0
      },
      "text/plain": [
       "Backtest.optimize:   0%|          | 0/200 [00:00<?, ?it/s]"
      ]
     },
     "metadata": {},
     "output_type": "display_data"
    },
    {
     "name": "stdout",
     "output_type": "stream",
     "text": [
      "优化结果:\n",
      "  Symbol: WAVESUSDT\n",
      "  Initial Capital: 10000\n",
      "  Lowest Point Bars: 47\n",
      "  RSI Length: 2\n",
      "  Sell Barrier: 83\n",
      "  DCA Parts: 11\n",
      "  Total Return (%): 44.02753947360096\n",
      "  Sharpe Ratio: 0.6428931349249627\n",
      "  Max Drawdown (%): -38.39008650097382\n",
      "  Win Rate (%): 60.0\n",
      "  Total Trades: 200\n",
      "  Optimization Date: 2025-02-02 03:24:07\n",
      "完成 WAVESUSDT 的优化\n",
      "\n",
      "正在处理第 38/45 个交易对: XLMUSDT\n",
      "--------------------------------------------------\n",
      "验证 XLMUSDT 的数据完整性...\n",
      "XLMUSDT 数据完整性验证通过\n",
      "开始优化 XLMUSDT...\n",
      "开始加载 XLMUSDT 的数据...\n",
      "\n",
      "开始参数优化...\n",
      "['c:\\\\Users\\\\x7498\\\\anaconda3\\\\envs\\\\backtesting\\\\python310.zip', 'c:\\\\Users\\\\x7498\\\\anaconda3\\\\envs\\\\backtesting\\\\DLLs', 'c:\\\\Users\\\\x7498\\\\anaconda3\\\\envs\\\\backtesting\\\\lib', 'c:\\\\Users\\\\x7498\\\\anaconda3\\\\envs\\\\backtesting', '', 'c:\\\\Users\\\\x7498\\\\anaconda3\\\\envs\\\\backtesting\\\\lib\\\\site-packages', 'c:\\\\Users\\\\x7498\\\\anaconda3\\\\envs\\\\backtesting\\\\lib\\\\site-packages\\\\win32', 'c:\\\\Users\\\\x7498\\\\anaconda3\\\\envs\\\\backtesting\\\\lib\\\\site-packages\\\\win32\\\\lib', 'c:\\\\Users\\\\x7498\\\\anaconda3\\\\envs\\\\backtesting\\\\lib\\\\site-packages\\\\Pythonwin']\n"
     ]
    },
    {
     "data": {
      "application/vnd.jupyter.widget-view+json": {
       "model_id": "e2d1021abd1c485fbd581a6a7591a218",
       "version_major": 2,
       "version_minor": 0
      },
      "text/plain": [
       "Backtest.optimize:   0%|          | 0/200 [00:00<?, ?it/s]"
      ]
     },
     "metadata": {},
     "output_type": "display_data"
    },
    {
     "name": "stdout",
     "output_type": "stream",
     "text": [
      "优化结果:\n",
      "  Symbol: XLMUSDT\n",
      "  Initial Capital: 10000\n",
      "  Lowest Point Bars: 45\n",
      "  RSI Length: 2\n",
      "  Sell Barrier: 82\n",
      "  DCA Parts: 5\n",
      "  Total Return (%): 469.5227598475671\n",
      "  Sharpe Ratio: 0.9317695898789147\n",
      "  Max Drawdown (%): -50.29431323787824\n",
      "  Win Rate (%): 63.76470588235294\n",
      "  Total Trades: 425\n",
      "  Optimization Date: 2025-02-02 03:31:31\n",
      "完成 XLMUSDT 的优化\n",
      "\n",
      "正在处理第 39/45 个交易对: XMRUSDT\n",
      "--------------------------------------------------\n",
      "验证 XMRUSDT 的数据完整性...\n",
      "XMRUSDT 数据完整性验证通过\n",
      "开始优化 XMRUSDT...\n",
      "开始加载 XMRUSDT 的数据...\n",
      "\n",
      "开始参数优化...\n",
      "['c:\\\\Users\\\\x7498\\\\anaconda3\\\\envs\\\\backtesting\\\\python310.zip', 'c:\\\\Users\\\\x7498\\\\anaconda3\\\\envs\\\\backtesting\\\\DLLs', 'c:\\\\Users\\\\x7498\\\\anaconda3\\\\envs\\\\backtesting\\\\lib', 'c:\\\\Users\\\\x7498\\\\anaconda3\\\\envs\\\\backtesting', '', 'c:\\\\Users\\\\x7498\\\\anaconda3\\\\envs\\\\backtesting\\\\lib\\\\site-packages', 'c:\\\\Users\\\\x7498\\\\anaconda3\\\\envs\\\\backtesting\\\\lib\\\\site-packages\\\\win32', 'c:\\\\Users\\\\x7498\\\\anaconda3\\\\envs\\\\backtesting\\\\lib\\\\site-packages\\\\win32\\\\lib', 'c:\\\\Users\\\\x7498\\\\anaconda3\\\\envs\\\\backtesting\\\\lib\\\\site-packages\\\\Pythonwin']\n"
     ]
    },
    {
     "data": {
      "application/vnd.jupyter.widget-view+json": {
       "model_id": "e5ca0775eb194c3f92be62743898c6b8",
       "version_major": 2,
       "version_minor": 0
      },
      "text/plain": [
       "Backtest.optimize:   0%|          | 0/200 [00:00<?, ?it/s]"
      ]
     },
     "metadata": {},
     "output_type": "display_data"
    },
    {
     "name": "stdout",
     "output_type": "stream",
     "text": [
      "优化结果:\n",
      "  Symbol: XMRUSDT\n",
      "  Initial Capital: 10000\n",
      "  Lowest Point Bars: 27\n",
      "  RSI Length: 10\n",
      "  Sell Barrier: 65\n",
      "  DCA Parts: 4\n",
      "  Total Return (%): 4831.6348891200505\n",
      "  Sharpe Ratio: 0.2264093326115407\n",
      "  Max Drawdown (%): -70.29995226337681\n",
      "  Win Rate (%): 57.36842105263158\n",
      "  Total Trades: 380\n",
      "  Optimization Date: 2025-02-02 03:42:12\n",
      "完成 XMRUSDT 的优化\n",
      "\n",
      "正在处理第 40/45 个交易对: XRPUSDT\n",
      "--------------------------------------------------\n",
      "验证 XRPUSDT 的数据完整性...\n",
      "XRPUSDT 数据完整性验证通过\n",
      "开始优化 XRPUSDT...\n",
      "开始加载 XRPUSDT 的数据...\n",
      "\n",
      "开始参数优化...\n",
      "['c:\\\\Users\\\\x7498\\\\anaconda3\\\\envs\\\\backtesting\\\\python310.zip', 'c:\\\\Users\\\\x7498\\\\anaconda3\\\\envs\\\\backtesting\\\\DLLs', 'c:\\\\Users\\\\x7498\\\\anaconda3\\\\envs\\\\backtesting\\\\lib', 'c:\\\\Users\\\\x7498\\\\anaconda3\\\\envs\\\\backtesting', '', 'c:\\\\Users\\\\x7498\\\\anaconda3\\\\envs\\\\backtesting\\\\lib\\\\site-packages', 'c:\\\\Users\\\\x7498\\\\anaconda3\\\\envs\\\\backtesting\\\\lib\\\\site-packages\\\\win32', 'c:\\\\Users\\\\x7498\\\\anaconda3\\\\envs\\\\backtesting\\\\lib\\\\site-packages\\\\win32\\\\lib', 'c:\\\\Users\\\\x7498\\\\anaconda3\\\\envs\\\\backtesting\\\\lib\\\\site-packages\\\\Pythonwin']\n"
     ]
    },
    {
     "data": {
      "application/vnd.jupyter.widget-view+json": {
       "model_id": "099c7eb3c7cc405588ef804a22a204a6",
       "version_major": 2,
       "version_minor": 0
      },
      "text/plain": [
       "Backtest.optimize:   0%|          | 0/200 [00:00<?, ?it/s]"
      ]
     },
     "metadata": {},
     "output_type": "display_data"
    },
    {
     "name": "stdout",
     "output_type": "stream",
     "text": [
      "优化结果:\n",
      "  Symbol: XRPUSDT\n",
      "  Initial Capital: 10000\n",
      "  Lowest Point Bars: 8\n",
      "  RSI Length: 33\n",
      "  Sell Barrier: 76\n",
      "  DCA Parts: 6\n",
      "  Total Return (%): 3344.5046194684055\n",
      "  Sharpe Ratio: 0.04020001962326028\n",
      "  Max Drawdown (%): -89.93455031778545\n",
      "  Win Rate (%): 20.51282051282051\n",
      "  Total Trades: 39\n",
      "  Optimization Date: 2025-02-02 03:52:17\n",
      "完成 XRPUSDT 的优化\n",
      "\n",
      "正在处理第 41/45 个交易对: XTZUSDT\n",
      "--------------------------------------------------\n",
      "验证 XTZUSDT 的数据完整性...\n",
      "XTZUSDT 数据完整性验证通过\n",
      "开始优化 XTZUSDT...\n",
      "开始加载 XTZUSDT 的数据...\n",
      "\n",
      "开始参数优化...\n",
      "['c:\\\\Users\\\\x7498\\\\anaconda3\\\\envs\\\\backtesting\\\\python310.zip', 'c:\\\\Users\\\\x7498\\\\anaconda3\\\\envs\\\\backtesting\\\\DLLs', 'c:\\\\Users\\\\x7498\\\\anaconda3\\\\envs\\\\backtesting\\\\lib', 'c:\\\\Users\\\\x7498\\\\anaconda3\\\\envs\\\\backtesting', '', 'c:\\\\Users\\\\x7498\\\\anaconda3\\\\envs\\\\backtesting\\\\lib\\\\site-packages', 'c:\\\\Users\\\\x7498\\\\anaconda3\\\\envs\\\\backtesting\\\\lib\\\\site-packages\\\\win32', 'c:\\\\Users\\\\x7498\\\\anaconda3\\\\envs\\\\backtesting\\\\lib\\\\site-packages\\\\win32\\\\lib', 'c:\\\\Users\\\\x7498\\\\anaconda3\\\\envs\\\\backtesting\\\\lib\\\\site-packages\\\\Pythonwin']\n"
     ]
    },
    {
     "data": {
      "application/vnd.jupyter.widget-view+json": {
       "model_id": "86383247490246c693475ca61212bc29",
       "version_major": 2,
       "version_minor": 0
      },
      "text/plain": [
       "Backtest.optimize:   0%|          | 0/200 [00:00<?, ?it/s]"
      ]
     },
     "metadata": {},
     "output_type": "display_data"
    },
    {
     "name": "stdout",
     "output_type": "stream",
     "text": [
      "优化结果:\n",
      "  Symbol: XTZUSDT\n",
      "  Initial Capital: 10000\n",
      "  Lowest Point Bars: 48\n",
      "  RSI Length: 6\n",
      "  Sell Barrier: 65\n",
      "  DCA Parts: 7\n",
      "  Total Return (%): 344.3169319520065\n",
      "  Sharpe Ratio: 0.5741980053006878\n",
      "  Max Drawdown (%): -67.67373936068691\n",
      "  Win Rate (%): 56.81233933161953\n",
      "  Total Trades: 389\n",
      "  Optimization Date: 2025-02-02 04:00:30\n",
      "完成 XTZUSDT 的优化\n",
      "\n",
      "正在处理第 42/45 个交易对: YFIUSDT\n",
      "--------------------------------------------------\n",
      "验证 YFIUSDT 的数据完整性...\n",
      "YFIUSDT 数据完整性验证通过\n",
      "开始优化 YFIUSDT...\n",
      "开始加载 YFIUSDT 的数据...\n",
      "\n",
      "开始参数优化...\n",
      "['c:\\\\Users\\\\x7498\\\\anaconda3\\\\envs\\\\backtesting\\\\python310.zip', 'c:\\\\Users\\\\x7498\\\\anaconda3\\\\envs\\\\backtesting\\\\DLLs', 'c:\\\\Users\\\\x7498\\\\anaconda3\\\\envs\\\\backtesting\\\\lib', 'c:\\\\Users\\\\x7498\\\\anaconda3\\\\envs\\\\backtesting', '', 'c:\\\\Users\\\\x7498\\\\anaconda3\\\\envs\\\\backtesting\\\\lib\\\\site-packages', 'c:\\\\Users\\\\x7498\\\\anaconda3\\\\envs\\\\backtesting\\\\lib\\\\site-packages\\\\win32', 'c:\\\\Users\\\\x7498\\\\anaconda3\\\\envs\\\\backtesting\\\\lib\\\\site-packages\\\\win32\\\\lib', 'c:\\\\Users\\\\x7498\\\\anaconda3\\\\envs\\\\backtesting\\\\lib\\\\site-packages\\\\Pythonwin']\n"
     ]
    },
    {
     "data": {
      "application/vnd.jupyter.widget-view+json": {
       "model_id": "3c6333496d5945e299833d2a09551fbe",
       "version_major": 2,
       "version_minor": 0
      },
      "text/plain": [
       "Backtest.optimize:   0%|          | 0/200 [00:00<?, ?it/s]"
      ]
     },
     "metadata": {},
     "output_type": "display_data"
    },
    {
     "name": "stdout",
     "output_type": "stream",
     "text": [
      "优化结果:\n",
      "  Symbol: YFIUSDT\n",
      "  Initial Capital: 10000\n",
      "  Lowest Point Bars: 27\n",
      "  RSI Length: 4\n",
      "  Sell Barrier: 76\n",
      "  DCA Parts: 4\n",
      "  Total Return (%): 3333.671508000053\n",
      "  Sharpe Ratio: 0.37347551399950624\n",
      "  Max Drawdown (%): -79.37534015915601\n",
      "  Win Rate (%): 62.55144032921811\n",
      "  Total Trades: 486\n",
      "  Optimization Date: 2025-02-02 04:09:47\n",
      "完成 YFIUSDT 的优化\n",
      "\n",
      "正在处理第 43/45 个交易对: ZECUSDT\n",
      "--------------------------------------------------\n",
      "验证 ZECUSDT 的数据完整性...\n",
      "ZECUSDT 数据完整性验证通过\n",
      "开始优化 ZECUSDT...\n",
      "开始加载 ZECUSDT 的数据...\n",
      "\n",
      "开始参数优化...\n",
      "['c:\\\\Users\\\\x7498\\\\anaconda3\\\\envs\\\\backtesting\\\\python310.zip', 'c:\\\\Users\\\\x7498\\\\anaconda3\\\\envs\\\\backtesting\\\\DLLs', 'c:\\\\Users\\\\x7498\\\\anaconda3\\\\envs\\\\backtesting\\\\lib', 'c:\\\\Users\\\\x7498\\\\anaconda3\\\\envs\\\\backtesting', '', 'c:\\\\Users\\\\x7498\\\\anaconda3\\\\envs\\\\backtesting\\\\lib\\\\site-packages', 'c:\\\\Users\\\\x7498\\\\anaconda3\\\\envs\\\\backtesting\\\\lib\\\\site-packages\\\\win32', 'c:\\\\Users\\\\x7498\\\\anaconda3\\\\envs\\\\backtesting\\\\lib\\\\site-packages\\\\win32\\\\lib', 'c:\\\\Users\\\\x7498\\\\anaconda3\\\\envs\\\\backtesting\\\\lib\\\\site-packages\\\\Pythonwin']\n"
     ]
    },
    {
     "data": {
      "application/vnd.jupyter.widget-view+json": {
       "model_id": "c037faff0db045d0baeeb1655927566c",
       "version_major": 2,
       "version_minor": 0
      },
      "text/plain": [
       "Backtest.optimize:   0%|          | 0/200 [00:00<?, ?it/s]"
      ]
     },
     "metadata": {},
     "output_type": "display_data"
    },
    {
     "name": "stdout",
     "output_type": "stream",
     "text": [
      "优化结果:\n",
      "  Symbol: ZECUSDT\n",
      "  Initial Capital: 10000\n",
      "  Lowest Point Bars: 42\n",
      "  RSI Length: 2\n",
      "  Sell Barrier: 79\n",
      "  DCA Parts: 6\n",
      "  Total Return (%): 733.2027991200081\n",
      "  Sharpe Ratio: 1.069719615990614\n",
      "  Max Drawdown (%): -39.218322752648206\n",
      "  Win Rate (%): 63.580246913580254\n",
      "  Total Trades: 486\n",
      "  Optimization Date: 2025-02-02 04:15:04\n",
      "完成 ZECUSDT 的优化\n",
      "\n",
      "正在处理第 44/45 个交易对: ZILUSDT\n",
      "--------------------------------------------------\n",
      "验证 ZILUSDT 的数据完整性...\n",
      "ZILUSDT 数据完整性验证通过\n",
      "开始优化 ZILUSDT...\n",
      "开始加载 ZILUSDT 的数据...\n",
      "\n",
      "开始参数优化...\n",
      "['c:\\\\Users\\\\x7498\\\\anaconda3\\\\envs\\\\backtesting\\\\python310.zip', 'c:\\\\Users\\\\x7498\\\\anaconda3\\\\envs\\\\backtesting\\\\DLLs', 'c:\\\\Users\\\\x7498\\\\anaconda3\\\\envs\\\\backtesting\\\\lib', 'c:\\\\Users\\\\x7498\\\\anaconda3\\\\envs\\\\backtesting', '', 'c:\\\\Users\\\\x7498\\\\anaconda3\\\\envs\\\\backtesting\\\\lib\\\\site-packages', 'c:\\\\Users\\\\x7498\\\\anaconda3\\\\envs\\\\backtesting\\\\lib\\\\site-packages\\\\win32', 'c:\\\\Users\\\\x7498\\\\anaconda3\\\\envs\\\\backtesting\\\\lib\\\\site-packages\\\\win32\\\\lib', 'c:\\\\Users\\\\x7498\\\\anaconda3\\\\envs\\\\backtesting\\\\lib\\\\site-packages\\\\Pythonwin']\n"
     ]
    },
    {
     "data": {
      "application/vnd.jupyter.widget-view+json": {
       "model_id": "b1ae4498f2174fecbd752d631bb1b734",
       "version_major": 2,
       "version_minor": 0
      },
      "text/plain": [
       "Backtest.optimize:   0%|          | 0/200 [00:00<?, ?it/s]"
      ]
     },
     "metadata": {},
     "output_type": "display_data"
    },
    {
     "name": "stdout",
     "output_type": "stream",
     "text": [
      "优化结果:\n",
      "  Symbol: ZILUSDT\n",
      "  Initial Capital: 10000\n",
      "  Lowest Point Bars: 39\n",
      "  RSI Length: 3\n",
      "  Sell Barrier: 80\n",
      "  DCA Parts: 9\n",
      "  Total Return (%): 603.8053308793261\n",
      "  Sharpe Ratio: 0.9791962156248596\n",
      "  Max Drawdown (%): -53.884146735083704\n",
      "  Win Rate (%): 56.4625850340136\n",
      "  Total Trades: 441\n",
      "  Optimization Date: 2025-02-02 04:24:05\n",
      "完成 ZILUSDT 的优化\n",
      "\n",
      "正在处理第 45/45 个交易对: ZRXUSDT\n",
      "--------------------------------------------------\n",
      "验证 ZRXUSDT 的数据完整性...\n",
      "ZRXUSDT 数据完整性验证通过\n",
      "开始优化 ZRXUSDT...\n",
      "开始加载 ZRXUSDT 的数据...\n",
      "\n",
      "开始参数优化...\n",
      "['c:\\\\Users\\\\x7498\\\\anaconda3\\\\envs\\\\backtesting\\\\python310.zip', 'c:\\\\Users\\\\x7498\\\\anaconda3\\\\envs\\\\backtesting\\\\DLLs', 'c:\\\\Users\\\\x7498\\\\anaconda3\\\\envs\\\\backtesting\\\\lib', 'c:\\\\Users\\\\x7498\\\\anaconda3\\\\envs\\\\backtesting', '', 'c:\\\\Users\\\\x7498\\\\anaconda3\\\\envs\\\\backtesting\\\\lib\\\\site-packages', 'c:\\\\Users\\\\x7498\\\\anaconda3\\\\envs\\\\backtesting\\\\lib\\\\site-packages\\\\win32', 'c:\\\\Users\\\\x7498\\\\anaconda3\\\\envs\\\\backtesting\\\\lib\\\\site-packages\\\\win32\\\\lib', 'c:\\\\Users\\\\x7498\\\\anaconda3\\\\envs\\\\backtesting\\\\lib\\\\site-packages\\\\Pythonwin']\n"
     ]
    },
    {
     "data": {
      "application/vnd.jupyter.widget-view+json": {
       "model_id": "f309cedbb8b94ed7b503454e6bc23b5f",
       "version_major": 2,
       "version_minor": 0
      },
      "text/plain": [
       "Backtest.optimize:   0%|          | 0/200 [00:00<?, ?it/s]"
      ]
     },
     "metadata": {},
     "output_type": "display_data"
    },
    {
     "name": "stdout",
     "output_type": "stream",
     "text": [
      "优化结果:\n",
      "  Symbol: ZRXUSDT\n",
      "  Initial Capital: 10000\n",
      "  Lowest Point Bars: 25\n",
      "  RSI Length: 2\n",
      "  Sell Barrier: 85\n",
      "  DCA Parts: 11\n",
      "  Total Return (%): 54.148623531603135\n",
      "  Sharpe Ratio: 0.360781812966692\n",
      "  Max Drawdown (%): -72.75081510721846\n",
      "  Win Rate (%): 58.20668693009119\n",
      "  Total Trades: 658\n",
      "  Optimization Date: 2025-02-02 04:30:02\n",
      "完成 ZRXUSDT 的优化\n",
      "\n",
      "成功完成 45/45 个交易对的优化\n",
      "结果已保存到 optimization_results.xlsx\n",
      "\n",
      "优化结果统计:\n",
      "       Initial Capital  Lowest Point Bars  RSI Length  Sell Barrier  \\\n",
      "count             45.0          45.000000   45.000000     45.000000   \n",
      "mean           10000.0          35.644444   10.066667     75.844444   \n",
      "std                0.0          13.258197   13.146724      6.986856   \n",
      "min            10000.0           5.000000    2.000000     65.000000   \n",
      "25%            10000.0          27.000000    3.000000     69.000000   \n",
      "50%            10000.0          39.000000    4.000000     77.000000   \n",
      "75%            10000.0          47.000000   10.000000     81.000000   \n",
      "max            10000.0          50.000000   47.000000     85.000000   \n",
      "\n",
      "       DCA Parts  Total Return (%)  Sharpe Ratio  Max Drawdown (%)  \\\n",
      "count  45.000000         45.000000     45.000000         45.000000   \n",
      "mean    7.266667        894.628417      0.597561        -64.874293   \n",
      "std     2.774887       1096.691269      0.411784         17.438183   \n",
      "min     4.000000         44.027539      0.013759        -93.891357   \n",
      "25%     4.000000        282.402923      0.184510        -79.375340   \n",
      "50%     7.000000        471.342908      0.574198        -64.305205   \n",
      "75%    10.000000       1083.987994      0.975077        -50.294313   \n",
      "max    11.000000       4831.634889      1.245866        -36.849312   \n",
      "\n",
      "       Win Rate (%)  Total Trades  \n",
      "count     45.000000     45.000000  \n",
      "mean      50.945914    362.977778  \n",
      "std       14.636591    189.254097  \n",
      "min       16.666667      4.000000  \n",
      "25%       49.023861    241.000000  \n",
      "50%       57.170923    426.000000  \n",
      "75%       59.594096    486.000000  \n",
      "max       64.299065    663.000000  \n"
     ]
    },
    {
     "ename": "",
     "evalue": "",
     "output_type": "error",
     "traceback": [
      "\u001b[1;31mThe Kernel crashed while executing code in the current cell or a previous cell. \n",
      "\u001b[1;31mPlease review the code in the cell(s) to identify a possible cause of the failure. \n",
      "\u001b[1;31mClick <a href='https://aka.ms/vscodeJupyterKernelCrash'>here</a> for more info. \n",
      "\u001b[1;31mView Jupyter <a href='command:jupyter.viewOutput'>log</a> for further details."
     ]
    }
   ],
   "source": [
    "# 设置参数\n",
    "data_path = r'\\\\znas\\Main\\future'\n",
    "start_date = '2024-01-01'\n",
    "end_date = '2025-01-01'\n",
    "\n",
    "print(f\"使用数据路径: {data_path}\")\n",
    "print(f\"回测时间范围: {start_date} 到 {end_date}\")\n",
    "\n",
    "# 获取所有交易对\n",
    "symbols = get_all_symbols(data_path, '2024-01-01')\n",
    "print(f\"找到 {len(symbols)} 个交易对:\")\n",
    "print(\"\\n\".join(symbols))\n",
    "\n",
    "# 存储结果的列表\n",
    "results = []\n",
    "\n",
    "# 对每个交易对进行处理\n",
    "for i, symbol in enumerate(symbols, 1):\n",
    "    print(f\"\\n正在处理第 {i}/{len(symbols)} 个交易对: {symbol}\")\n",
    "    print(\"-\" * 50)\n",
    "    \n",
    "    # 验证数据完整性\n",
    "    print(f\"验证 {symbol} 的数据完整性...\")\n",
    "    if not verify_data_completeness(symbol, start_date, end_date, data_path):\n",
    "        print(f\"警告: 跳过 {symbol} - 数据不完整\")\n",
    "        continue\n",
    "    print(f\"{symbol} 数据完整性验证通过\")\n",
    "    \n",
    "    # 进行优化\n",
    "    print(f\"开始优化 {symbol}...\")\n",
    "    result = optimize_strategy(symbol, start_date, end_date, data_path)\n",
    "    if result:\n",
    "        results.append(result)\n",
    "        print(f\"优化结果:\")\n",
    "        for key, value in result.items():\n",
    "            print(f\"  {key}: {value}\")\n",
    "        print(f\"完成 {symbol} 的优化\")\n",
    "    else:\n",
    "        print(f\"警告: {symbol} 优化失败\")\n",
    "\n",
    "# 将结果保存到Excel\n",
    "if results:\n",
    "    df_results = pd.DataFrame(results)\n",
    "    output_file = 'optimization_results.xlsx'\n",
    "    # 保存 Excel 文件\n",
    "    df_results.to_excel(output_file, index=False)\n",
    "    print(f\"\\n成功完成 {len(results)}/{len(symbols)} 个交易对的优化\")\n",
    "    print(f\"结果已保存到 {output_file}\")\n",
    "    print(\"\\n优化结果统计:\")\n",
    "    print(df_results.describe())\n",
    "else:\n",
    "    print(\"\\n警告: 没有找到任何有效的优化结果\")"
   ]
  }
 ],
 "metadata": {
  "kernelspec": {
   "display_name": "Python 3",
   "language": "python",
   "name": "python3"
  },
  "language_info": {
   "codemirror_mode": {
    "name": "ipython",
    "version": 3
   },
   "file_extension": ".py",
   "mimetype": "text/x-python",
   "name": "python",
   "nbconvert_exporter": "python",
   "pygments_lexer": "ipython3",
   "version": "3.10.16"
  }
 },
 "nbformat": 4,
 "nbformat_minor": 4
}
